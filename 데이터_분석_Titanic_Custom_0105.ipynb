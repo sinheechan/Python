{
  "cells": [
    {
      "cell_type": "markdown",
      "metadata": {
        "colab_type": "text",
        "id": "view-in-github"
      },
      "source": [
        "<a href=\"https://colab.research.google.com/github/sinheechan/Python_Read/blob/main/%EB%8D%B0%EC%9D%B4%ED%84%B0_%EB%B6%84%EC%84%9D_Titanic_Custom_0105.ipynb\" target=\"_parent\"><img src=\"https://colab.research.google.com/assets/colab-badge.svg\" alt=\"Open In Colab\"/></a>"
      ]
    },
    {
      "cell_type": "markdown",
      "metadata": {
        "id": "LWW64mbrX453"
      },
      "source": [
        "## 데이터 요청사항\n",
        "\n",
        "- Q1. 탑승객 생존과 연관있는 데이터를 확인하고 싶다.\n",
        "- Q2. 분석에 용이하게 데이터 시각화 요청"
      ]
    },
    {
      "cell_type": "markdown",
      "metadata": {
        "id": "y2XyCom2YZn0"
      },
      "source": [
        "## 1. 패키지 로딩"
      ]
    },
    {
      "cell_type": "code",
      "execution_count": 1,
      "metadata": {
        "id": "zUaSv2jGYfCM"
      },
      "outputs": [
        {
          "name": "stderr",
          "output_type": "stream",
          "text": [
            "Matplotlib is building the font cache; this may take a moment.\n"
          ]
        }
      ],
      "source": [
        "# 라이브러리\n",
        "import numpy as np\n",
        "import pandas as pd\n",
        "import matplotlib\n",
        "import matplotlib.pyplot as plt\n",
        "import seaborn as sns\n",
        "\n",
        "# 행렬 제한\n",
        "\n",
        "PREVIOUS_MAX_ROWS = pd.options.display.max_rows # 이전에 설정된 최대 표시 행 수 저장\n",
        "pd.options.display.max_rows = 20 # 표시할 최대 행 수\n",
        "pd.options.display.max_columns = 20 # 표시할 최대 열 수\n",
        "pd.options.display.max_colwidth = 80 # 표시할 최대 열 너비\n",
        "\n",
        "# 넘파이 옵션\n",
        "\n",
        "np.random.seed(2024)\n",
        "np.set_printoptions(precision = 4, suppress = True) # 넘파이 프린트옵션 : 소수점 이하 4자리 제한, 지수표현 비활성화\n",
        "\n",
        "# 그래프 사이즈 조정\n",
        "\n",
        "plt.rc(\"figure\", figsize = (8, 4))\n",
        "\n",
        "# 시본 그래프 사용 설정\n",
        "\n",
        "sns.set_theme()"
      ]
    },
    {
      "cell_type": "markdown",
      "metadata": {
        "id": "ag_U5wugaG5f"
      },
      "source": [
        "## 2. 데이터 불러오기"
      ]
    },
    {
      "cell_type": "code",
      "execution_count": 2,
      "metadata": {
        "colab": {
          "base_uri": "https://localhost:8080/"
        },
        "id": "T5jD7Q7xaGZ_",
        "outputId": "89b53ce8-d493-4556-f670-c7de52e889c8"
      },
      "outputs": [
        {
          "name": "stderr",
          "output_type": "stream",
          "text": [
            "c:\\ProgramData\\anaconda3\\Lib\\site-packages\\sklearn\\datasets\\_openml.py:1002: FutureWarning: The default value of `parser` will change from `'liac-arff'` to `'auto'` in 1.4. You can set `parser='auto'` to silence this warning. Therefore, an `ImportError` will be raised from 1.4 if the dataset is dense and pandas is not installed. Note that the pandas parser may return different data types. See the Notes Section in fetch_openml's API doc for details.\n",
            "  warn(\n"
          ]
        }
      ],
      "source": [
        "# scikit_learn\n",
        "\n",
        "from sklearn.datasets import fetch_openml\n",
        "\n",
        "# 예제에서의 세팅 값\n",
        "\n",
        "X, y = fetch_openml('titanic', version=1, as_frame=True, return_X_y=True)"
      ]
    },
    {
      "cell_type": "markdown",
      "metadata": {
        "id": "VGfoEY1tcZeM"
      },
      "source": [
        "## ** 데이터 설명서 **\n",
        "\n",
        "- 1309명 승객의 데이터 포함.\n",
        "\n",
        "- `X`: 13개의 열(특성) 사용.\n",
        "\n",
        "| 열 특성 | 의미 |\n",
        "| :--- | :--- |\n",
        "| Pclass | 승객 클래스(1 = 1등석; 2 = 2등석; 3 = 3등석) |\n",
        "| name | 이름 |\n",
        "| sex | 성(male=남성, female=여성) |\n",
        "| age | 나이 |\n",
        "| sibsp | 함께 승선한 형제, 자매, 배우자 수 |\n",
        "| parch | 함께 승선한 부모 자식 수 |\n",
        "| ticket | 티켓 번호 |\n",
        "| fare | 티켓 요금 (영국 파운드) |\n",
        "| cabin | 객실 번호 |\n",
        "| embarked | 승선한 항구 (C = Cherbourg; Q = Queenstown; S = Southampton) |\n",
        "| boat | 침몰시 탑승한 구명보트 번호 |\n",
        "| body | 사망자인 경우 지정된 번호 |\n",
        "| home.dest | 고향/목적지 |"
      ]
    },
    {
      "cell_type": "markdown",
      "metadata": {
        "id": "FRJH57l7arcO"
      },
      "source": [
        "## 3. 데이터 기본구조 파악"
      ]
    },
    {
      "cell_type": "code",
      "execution_count": 3,
      "metadata": {
        "colab": {
          "base_uri": "https://localhost:8080/"
        },
        "id": "bRlj8wmiaqLw",
        "outputId": "5449e86e-64d7-475b-8ca1-5f24d9465147"
      },
      "outputs": [
        {
          "data": {
            "text/plain": [
              "(1309, 13)"
            ]
          },
          "execution_count": 3,
          "metadata": {},
          "output_type": "execute_result"
        }
      ],
      "source": [
        "X.shape"
      ]
    },
    {
      "cell_type": "code",
      "execution_count": 4,
      "metadata": {
        "colab": {
          "base_uri": "https://localhost:8080/"
        },
        "id": "7LlmhfpOa3l-",
        "outputId": "2ffbd1a5-2876-49b9-a730-61d93ab6d607"
      },
      "outputs": [
        {
          "data": {
            "text/plain": [
              "Index(['pclass', 'name', 'sex', 'age', 'sibsp', 'parch', 'ticket', 'fare',\n",
              "       'cabin', 'embarked', 'boat', 'body', 'home.dest'],\n",
              "      dtype='object')"
            ]
          },
          "execution_count": 4,
          "metadata": {},
          "output_type": "execute_result"
        }
      ],
      "source": [
        "X.columns"
      ]
    },
    {
      "cell_type": "code",
      "execution_count": 5,
      "metadata": {
        "colab": {
          "base_uri": "https://localhost:8080/",
          "height": 539
        },
        "id": "Nhdg_8s2axu9",
        "outputId": "47235231-8f15-4084-d41f-4987c722ac23"
      },
      "outputs": [
        {
          "data": {
            "text/html": [
              "<div>\n",
              "<style scoped>\n",
              "    .dataframe tbody tr th:only-of-type {\n",
              "        vertical-align: middle;\n",
              "    }\n",
              "\n",
              "    .dataframe tbody tr th {\n",
              "        vertical-align: top;\n",
              "    }\n",
              "\n",
              "    .dataframe thead th {\n",
              "        text-align: right;\n",
              "    }\n",
              "</style>\n",
              "<table border=\"1\" class=\"dataframe\">\n",
              "  <thead>\n",
              "    <tr style=\"text-align: right;\">\n",
              "      <th></th>\n",
              "      <th>pclass</th>\n",
              "      <th>name</th>\n",
              "      <th>sex</th>\n",
              "      <th>age</th>\n",
              "      <th>sibsp</th>\n",
              "      <th>parch</th>\n",
              "      <th>ticket</th>\n",
              "      <th>fare</th>\n",
              "      <th>cabin</th>\n",
              "      <th>embarked</th>\n",
              "      <th>boat</th>\n",
              "      <th>body</th>\n",
              "      <th>home.dest</th>\n",
              "    </tr>\n",
              "  </thead>\n",
              "  <tbody>\n",
              "    <tr>\n",
              "      <th>0</th>\n",
              "      <td>1.0</td>\n",
              "      <td>Allen, Miss. Elisabeth Walton</td>\n",
              "      <td>female</td>\n",
              "      <td>29.0000</td>\n",
              "      <td>0.0</td>\n",
              "      <td>0.0</td>\n",
              "      <td>24160</td>\n",
              "      <td>211.3375</td>\n",
              "      <td>B5</td>\n",
              "      <td>S</td>\n",
              "      <td>2</td>\n",
              "      <td>NaN</td>\n",
              "      <td>St Louis, MO</td>\n",
              "    </tr>\n",
              "    <tr>\n",
              "      <th>1</th>\n",
              "      <td>1.0</td>\n",
              "      <td>Allison, Master. Hudson Trevor</td>\n",
              "      <td>male</td>\n",
              "      <td>0.9167</td>\n",
              "      <td>1.0</td>\n",
              "      <td>2.0</td>\n",
              "      <td>113781</td>\n",
              "      <td>151.5500</td>\n",
              "      <td>C22 C26</td>\n",
              "      <td>S</td>\n",
              "      <td>11</td>\n",
              "      <td>NaN</td>\n",
              "      <td>Montreal, PQ / Chesterville, ON</td>\n",
              "    </tr>\n",
              "    <tr>\n",
              "      <th>2</th>\n",
              "      <td>1.0</td>\n",
              "      <td>Allison, Miss. Helen Loraine</td>\n",
              "      <td>female</td>\n",
              "      <td>2.0000</td>\n",
              "      <td>1.0</td>\n",
              "      <td>2.0</td>\n",
              "      <td>113781</td>\n",
              "      <td>151.5500</td>\n",
              "      <td>C22 C26</td>\n",
              "      <td>S</td>\n",
              "      <td>NaN</td>\n",
              "      <td>NaN</td>\n",
              "      <td>Montreal, PQ / Chesterville, ON</td>\n",
              "    </tr>\n",
              "    <tr>\n",
              "      <th>3</th>\n",
              "      <td>1.0</td>\n",
              "      <td>Allison, Mr. Hudson Joshua Creighton</td>\n",
              "      <td>male</td>\n",
              "      <td>30.0000</td>\n",
              "      <td>1.0</td>\n",
              "      <td>2.0</td>\n",
              "      <td>113781</td>\n",
              "      <td>151.5500</td>\n",
              "      <td>C22 C26</td>\n",
              "      <td>S</td>\n",
              "      <td>NaN</td>\n",
              "      <td>135.0</td>\n",
              "      <td>Montreal, PQ / Chesterville, ON</td>\n",
              "    </tr>\n",
              "    <tr>\n",
              "      <th>4</th>\n",
              "      <td>1.0</td>\n",
              "      <td>Allison, Mrs. Hudson J C (Bessie Waldo Daniels)</td>\n",
              "      <td>female</td>\n",
              "      <td>25.0000</td>\n",
              "      <td>1.0</td>\n",
              "      <td>2.0</td>\n",
              "      <td>113781</td>\n",
              "      <td>151.5500</td>\n",
              "      <td>C22 C26</td>\n",
              "      <td>S</td>\n",
              "      <td>NaN</td>\n",
              "      <td>NaN</td>\n",
              "      <td>Montreal, PQ / Chesterville, ON</td>\n",
              "    </tr>\n",
              "  </tbody>\n",
              "</table>\n",
              "</div>"
            ],
            "text/plain": [
              "   pclass                                             name     sex      age  \\\n",
              "0     1.0                    Allen, Miss. Elisabeth Walton  female  29.0000   \n",
              "1     1.0                   Allison, Master. Hudson Trevor    male   0.9167   \n",
              "2     1.0                     Allison, Miss. Helen Loraine  female   2.0000   \n",
              "3     1.0             Allison, Mr. Hudson Joshua Creighton    male  30.0000   \n",
              "4     1.0  Allison, Mrs. Hudson J C (Bessie Waldo Daniels)  female  25.0000   \n",
              "\n",
              "   sibsp  parch  ticket      fare    cabin embarked boat   body  \\\n",
              "0    0.0    0.0   24160  211.3375       B5        S    2    NaN   \n",
              "1    1.0    2.0  113781  151.5500  C22 C26        S   11    NaN   \n",
              "2    1.0    2.0  113781  151.5500  C22 C26        S  NaN    NaN   \n",
              "3    1.0    2.0  113781  151.5500  C22 C26        S  NaN  135.0   \n",
              "4    1.0    2.0  113781  151.5500  C22 C26        S  NaN    NaN   \n",
              "\n",
              "                         home.dest  \n",
              "0                     St Louis, MO  \n",
              "1  Montreal, PQ / Chesterville, ON  \n",
              "2  Montreal, PQ / Chesterville, ON  \n",
              "3  Montreal, PQ / Chesterville, ON  \n",
              "4  Montreal, PQ / Chesterville, ON  "
            ]
          },
          "execution_count": 5,
          "metadata": {},
          "output_type": "execute_result"
        }
      ],
      "source": [
        "X.head()"
      ]
    },
    {
      "cell_type": "code",
      "execution_count": 6,
      "metadata": {
        "colab": {
          "base_uri": "https://localhost:8080/",
          "height": 300
        },
        "id": "wh9HMgHNa_lJ",
        "outputId": "bae1700f-1cb7-45bb-c74c-a9950dc7f120"
      },
      "outputs": [
        {
          "data": {
            "text/html": [
              "<div>\n",
              "<style scoped>\n",
              "    .dataframe tbody tr th:only-of-type {\n",
              "        vertical-align: middle;\n",
              "    }\n",
              "\n",
              "    .dataframe tbody tr th {\n",
              "        vertical-align: top;\n",
              "    }\n",
              "\n",
              "    .dataframe thead th {\n",
              "        text-align: right;\n",
              "    }\n",
              "</style>\n",
              "<table border=\"1\" class=\"dataframe\">\n",
              "  <thead>\n",
              "    <tr style=\"text-align: right;\">\n",
              "      <th></th>\n",
              "      <th>pclass</th>\n",
              "      <th>age</th>\n",
              "      <th>sibsp</th>\n",
              "      <th>parch</th>\n",
              "      <th>fare</th>\n",
              "      <th>body</th>\n",
              "    </tr>\n",
              "  </thead>\n",
              "  <tbody>\n",
              "    <tr>\n",
              "      <th>count</th>\n",
              "      <td>1309.000000</td>\n",
              "      <td>1046.000000</td>\n",
              "      <td>1309.000000</td>\n",
              "      <td>1309.000000</td>\n",
              "      <td>1308.000000</td>\n",
              "      <td>121.000000</td>\n",
              "    </tr>\n",
              "    <tr>\n",
              "      <th>mean</th>\n",
              "      <td>2.294882</td>\n",
              "      <td>29.881135</td>\n",
              "      <td>0.498854</td>\n",
              "      <td>0.385027</td>\n",
              "      <td>33.295479</td>\n",
              "      <td>160.809917</td>\n",
              "    </tr>\n",
              "    <tr>\n",
              "      <th>std</th>\n",
              "      <td>0.837836</td>\n",
              "      <td>14.413500</td>\n",
              "      <td>1.041658</td>\n",
              "      <td>0.865560</td>\n",
              "      <td>51.758668</td>\n",
              "      <td>97.696922</td>\n",
              "    </tr>\n",
              "    <tr>\n",
              "      <th>min</th>\n",
              "      <td>1.000000</td>\n",
              "      <td>0.166700</td>\n",
              "      <td>0.000000</td>\n",
              "      <td>0.000000</td>\n",
              "      <td>0.000000</td>\n",
              "      <td>1.000000</td>\n",
              "    </tr>\n",
              "    <tr>\n",
              "      <th>25%</th>\n",
              "      <td>2.000000</td>\n",
              "      <td>21.000000</td>\n",
              "      <td>0.000000</td>\n",
              "      <td>0.000000</td>\n",
              "      <td>7.895800</td>\n",
              "      <td>72.000000</td>\n",
              "    </tr>\n",
              "    <tr>\n",
              "      <th>50%</th>\n",
              "      <td>3.000000</td>\n",
              "      <td>28.000000</td>\n",
              "      <td>0.000000</td>\n",
              "      <td>0.000000</td>\n",
              "      <td>14.454200</td>\n",
              "      <td>155.000000</td>\n",
              "    </tr>\n",
              "    <tr>\n",
              "      <th>75%</th>\n",
              "      <td>3.000000</td>\n",
              "      <td>39.000000</td>\n",
              "      <td>1.000000</td>\n",
              "      <td>0.000000</td>\n",
              "      <td>31.275000</td>\n",
              "      <td>256.000000</td>\n",
              "    </tr>\n",
              "    <tr>\n",
              "      <th>max</th>\n",
              "      <td>3.000000</td>\n",
              "      <td>80.000000</td>\n",
              "      <td>8.000000</td>\n",
              "      <td>9.000000</td>\n",
              "      <td>512.329200</td>\n",
              "      <td>328.000000</td>\n",
              "    </tr>\n",
              "  </tbody>\n",
              "</table>\n",
              "</div>"
            ],
            "text/plain": [
              "            pclass          age        sibsp        parch         fare  \\\n",
              "count  1309.000000  1046.000000  1309.000000  1309.000000  1308.000000   \n",
              "mean      2.294882    29.881135     0.498854     0.385027    33.295479   \n",
              "std       0.837836    14.413500     1.041658     0.865560    51.758668   \n",
              "min       1.000000     0.166700     0.000000     0.000000     0.000000   \n",
              "25%       2.000000    21.000000     0.000000     0.000000     7.895800   \n",
              "50%       3.000000    28.000000     0.000000     0.000000    14.454200   \n",
              "75%       3.000000    39.000000     1.000000     0.000000    31.275000   \n",
              "max       3.000000    80.000000     8.000000     9.000000   512.329200   \n",
              "\n",
              "             body  \n",
              "count  121.000000  \n",
              "mean   160.809917  \n",
              "std     97.696922  \n",
              "min      1.000000  \n",
              "25%     72.000000  \n",
              "50%    155.000000  \n",
              "75%    256.000000  \n",
              "max    328.000000  "
            ]
          },
          "execution_count": 6,
          "metadata": {},
          "output_type": "execute_result"
        }
      ],
      "source": [
        "X.describe()"
      ]
    },
    {
      "cell_type": "code",
      "execution_count": 7,
      "metadata": {
        "colab": {
          "base_uri": "https://localhost:8080/"
        },
        "id": "IeVg3wIcbJVn",
        "outputId": "6ac25890-9785-4e7a-dc25-cad3abb6ebe8"
      },
      "outputs": [
        {
          "data": {
            "text/plain": [
              "pclass        float64\n",
              "name           object\n",
              "sex          category\n",
              "age           float64\n",
              "sibsp         float64\n",
              "parch         float64\n",
              "ticket         object\n",
              "fare          float64\n",
              "cabin          object\n",
              "embarked     category\n",
              "boat           object\n",
              "body          float64\n",
              "home.dest      object\n",
              "dtype: object"
            ]
          },
          "execution_count": 7,
          "metadata": {},
          "output_type": "execute_result"
        }
      ],
      "source": [
        "X.dtypes"
      ]
    },
    {
      "cell_type": "code",
      "execution_count": 8,
      "metadata": {
        "colab": {
          "base_uri": "https://localhost:8080/"
        },
        "id": "T4ZCQuPnbTjF",
        "outputId": "b0b703e2-d1d2-4c03-a08b-d45d1452c584"
      },
      "outputs": [
        {
          "data": {
            "text/plain": [
              "0       1\n",
              "1       1\n",
              "2       0\n",
              "3       0\n",
              "4       0\n",
              "       ..\n",
              "1304    0\n",
              "1305    0\n",
              "1306    0\n",
              "1307    0\n",
              "1308    0\n",
              "Name: survived, Length: 1309, dtype: category\n",
              "Categories (2, object): ['0', '1']"
            ]
          },
          "execution_count": 8,
          "metadata": {},
          "output_type": "execute_result"
        }
      ],
      "source": [
        "y"
      ]
    },
    {
      "cell_type": "markdown",
      "metadata": {
        "id": "G1eBEqRtbaPS"
      },
      "source": [
        "## 4. 데이터 정제 및 전처리"
      ]
    },
    {
      "cell_type": "markdown",
      "metadata": {
        "id": "NqSOqrjYbd2M"
      },
      "source": [
        "#### 4.1 y는 생존을 나타내는 코드로 원활한 분석을 위해 category -> int 로 변환"
      ]
    },
    {
      "cell_type": "code",
      "execution_count": 9,
      "metadata": {
        "colab": {
          "base_uri": "https://localhost:8080/"
        },
        "id": "noxFNlDhbZw1",
        "outputId": "692d95f1-d79e-4af6-e1fc-e0811cd30ef3"
      },
      "outputs": [
        {
          "name": "stdout",
          "output_type": "stream",
          "text": [
            "<class 'pandas.core.series.Series'>\n",
            "RangeIndex: 1309 entries, 0 to 1308\n",
            "Series name: survived\n",
            "Non-Null Count  Dtype   \n",
            "--------------  -----   \n",
            "1309 non-null   category\n",
            "dtypes: category(1)\n",
            "memory usage: 1.5 KB\n"
          ]
        }
      ],
      "source": [
        "y.info()"
      ]
    },
    {
      "cell_type": "code",
      "execution_count": 10,
      "metadata": {
        "id": "w5sXbyfsbt9K"
      },
      "outputs": [],
      "source": [
        "y = y.astype(\"i4\")"
      ]
    },
    {
      "cell_type": "markdown",
      "metadata": {
        "id": "_Kab1gnBb71D"
      },
      "source": [
        "#### 4.2 생존률과 관련 없는 데이터 제거"
      ]
    },
    {
      "cell_type": "code",
      "execution_count": 11,
      "metadata": {
        "colab": {
          "base_uri": "https://localhost:8080/",
          "height": 493
        },
        "id": "nxkMp97cb7GY",
        "outputId": "e10088bc-d4e1-4910-abca-7b49981efe0d"
      },
      "outputs": [
        {
          "data": {
            "text/html": [
              "<div>\n",
              "<style scoped>\n",
              "    .dataframe tbody tr th:only-of-type {\n",
              "        vertical-align: middle;\n",
              "    }\n",
              "\n",
              "    .dataframe tbody tr th {\n",
              "        vertical-align: top;\n",
              "    }\n",
              "\n",
              "    .dataframe thead th {\n",
              "        text-align: right;\n",
              "    }\n",
              "</style>\n",
              "<table border=\"1\" class=\"dataframe\">\n",
              "  <thead>\n",
              "    <tr style=\"text-align: right;\">\n",
              "      <th></th>\n",
              "      <th>pclass</th>\n",
              "      <th>name</th>\n",
              "      <th>sex</th>\n",
              "      <th>age</th>\n",
              "      <th>sibsp</th>\n",
              "      <th>parch</th>\n",
              "      <th>fare</th>\n",
              "      <th>cabin</th>\n",
              "      <th>embarked</th>\n",
              "    </tr>\n",
              "  </thead>\n",
              "  <tbody>\n",
              "    <tr>\n",
              "      <th>0</th>\n",
              "      <td>1.0</td>\n",
              "      <td>Allen, Miss. Elisabeth Walton</td>\n",
              "      <td>female</td>\n",
              "      <td>29.0000</td>\n",
              "      <td>0.0</td>\n",
              "      <td>0.0</td>\n",
              "      <td>211.3375</td>\n",
              "      <td>B5</td>\n",
              "      <td>S</td>\n",
              "    </tr>\n",
              "    <tr>\n",
              "      <th>1</th>\n",
              "      <td>1.0</td>\n",
              "      <td>Allison, Master. Hudson Trevor</td>\n",
              "      <td>male</td>\n",
              "      <td>0.9167</td>\n",
              "      <td>1.0</td>\n",
              "      <td>2.0</td>\n",
              "      <td>151.5500</td>\n",
              "      <td>C22 C26</td>\n",
              "      <td>S</td>\n",
              "    </tr>\n",
              "    <tr>\n",
              "      <th>2</th>\n",
              "      <td>1.0</td>\n",
              "      <td>Allison, Miss. Helen Loraine</td>\n",
              "      <td>female</td>\n",
              "      <td>2.0000</td>\n",
              "      <td>1.0</td>\n",
              "      <td>2.0</td>\n",
              "      <td>151.5500</td>\n",
              "      <td>C22 C26</td>\n",
              "      <td>S</td>\n",
              "    </tr>\n",
              "    <tr>\n",
              "      <th>3</th>\n",
              "      <td>1.0</td>\n",
              "      <td>Allison, Mr. Hudson Joshua Creighton</td>\n",
              "      <td>male</td>\n",
              "      <td>30.0000</td>\n",
              "      <td>1.0</td>\n",
              "      <td>2.0</td>\n",
              "      <td>151.5500</td>\n",
              "      <td>C22 C26</td>\n",
              "      <td>S</td>\n",
              "    </tr>\n",
              "    <tr>\n",
              "      <th>4</th>\n",
              "      <td>1.0</td>\n",
              "      <td>Allison, Mrs. Hudson J C (Bessie Waldo Daniels)</td>\n",
              "      <td>female</td>\n",
              "      <td>25.0000</td>\n",
              "      <td>1.0</td>\n",
              "      <td>2.0</td>\n",
              "      <td>151.5500</td>\n",
              "      <td>C22 C26</td>\n",
              "      <td>S</td>\n",
              "    </tr>\n",
              "    <tr>\n",
              "      <th>...</th>\n",
              "      <td>...</td>\n",
              "      <td>...</td>\n",
              "      <td>...</td>\n",
              "      <td>...</td>\n",
              "      <td>...</td>\n",
              "      <td>...</td>\n",
              "      <td>...</td>\n",
              "      <td>...</td>\n",
              "      <td>...</td>\n",
              "    </tr>\n",
              "    <tr>\n",
              "      <th>1304</th>\n",
              "      <td>3.0</td>\n",
              "      <td>Zabour, Miss. Hileni</td>\n",
              "      <td>female</td>\n",
              "      <td>14.5000</td>\n",
              "      <td>1.0</td>\n",
              "      <td>0.0</td>\n",
              "      <td>14.4542</td>\n",
              "      <td>NaN</td>\n",
              "      <td>C</td>\n",
              "    </tr>\n",
              "    <tr>\n",
              "      <th>1305</th>\n",
              "      <td>3.0</td>\n",
              "      <td>Zabour, Miss. Thamine</td>\n",
              "      <td>female</td>\n",
              "      <td>NaN</td>\n",
              "      <td>1.0</td>\n",
              "      <td>0.0</td>\n",
              "      <td>14.4542</td>\n",
              "      <td>NaN</td>\n",
              "      <td>C</td>\n",
              "    </tr>\n",
              "    <tr>\n",
              "      <th>1306</th>\n",
              "      <td>3.0</td>\n",
              "      <td>Zakarian, Mr. Mapriededer</td>\n",
              "      <td>male</td>\n",
              "      <td>26.5000</td>\n",
              "      <td>0.0</td>\n",
              "      <td>0.0</td>\n",
              "      <td>7.2250</td>\n",
              "      <td>NaN</td>\n",
              "      <td>C</td>\n",
              "    </tr>\n",
              "    <tr>\n",
              "      <th>1307</th>\n",
              "      <td>3.0</td>\n",
              "      <td>Zakarian, Mr. Ortin</td>\n",
              "      <td>male</td>\n",
              "      <td>27.0000</td>\n",
              "      <td>0.0</td>\n",
              "      <td>0.0</td>\n",
              "      <td>7.2250</td>\n",
              "      <td>NaN</td>\n",
              "      <td>C</td>\n",
              "    </tr>\n",
              "    <tr>\n",
              "      <th>1308</th>\n",
              "      <td>3.0</td>\n",
              "      <td>Zimmerman, Mr. Leo</td>\n",
              "      <td>male</td>\n",
              "      <td>29.0000</td>\n",
              "      <td>0.0</td>\n",
              "      <td>0.0</td>\n",
              "      <td>7.8750</td>\n",
              "      <td>NaN</td>\n",
              "      <td>S</td>\n",
              "    </tr>\n",
              "  </tbody>\n",
              "</table>\n",
              "<p>1309 rows × 9 columns</p>\n",
              "</div>"
            ],
            "text/plain": [
              "      pclass                                             name     sex  \\\n",
              "0        1.0                    Allen, Miss. Elisabeth Walton  female   \n",
              "1        1.0                   Allison, Master. Hudson Trevor    male   \n",
              "2        1.0                     Allison, Miss. Helen Loraine  female   \n",
              "3        1.0             Allison, Mr. Hudson Joshua Creighton    male   \n",
              "4        1.0  Allison, Mrs. Hudson J C (Bessie Waldo Daniels)  female   \n",
              "...      ...                                              ...     ...   \n",
              "1304     3.0                             Zabour, Miss. Hileni  female   \n",
              "1305     3.0                            Zabour, Miss. Thamine  female   \n",
              "1306     3.0                        Zakarian, Mr. Mapriededer    male   \n",
              "1307     3.0                              Zakarian, Mr. Ortin    male   \n",
              "1308     3.0                               Zimmerman, Mr. Leo    male   \n",
              "\n",
              "          age  sibsp  parch      fare    cabin embarked  \n",
              "0     29.0000    0.0    0.0  211.3375       B5        S  \n",
              "1      0.9167    1.0    2.0  151.5500  C22 C26        S  \n",
              "2      2.0000    1.0    2.0  151.5500  C22 C26        S  \n",
              "3     30.0000    1.0    2.0  151.5500  C22 C26        S  \n",
              "4     25.0000    1.0    2.0  151.5500  C22 C26        S  \n",
              "...       ...    ...    ...       ...      ...      ...  \n",
              "1304  14.5000    1.0    0.0   14.4542      NaN        C  \n",
              "1305      NaN    1.0    0.0   14.4542      NaN        C  \n",
              "1306  26.5000    0.0    0.0    7.2250      NaN        C  \n",
              "1307  27.0000    0.0    0.0    7.2250      NaN        C  \n",
              "1308  29.0000    0.0    0.0    7.8750      NaN        S  \n",
              "\n",
              "[1309 rows x 9 columns]"
            ]
          },
          "execution_count": 11,
          "metadata": {},
          "output_type": "execute_result"
        }
      ],
      "source": [
        "X.drop(['boat', 'body', 'home.dest', 'ticket'], axis = 1, inplace = True)\n",
        "\n",
        "X"
      ]
    },
    {
      "cell_type": "markdown",
      "metadata": {
        "id": "Mk2yAoyFc2M2"
      },
      "source": [
        "#### 4.3 결측치 제거"
      ]
    },
    {
      "cell_type": "code",
      "execution_count": 12,
      "metadata": {
        "colab": {
          "base_uri": "https://localhost:8080/"
        },
        "id": "IKRGZoTccuBC",
        "outputId": "220c27b8-a3b9-472e-afe0-5336ec34792f"
      },
      "outputs": [
        {
          "data": {
            "text/plain": [
              "pclass         0\n",
              "name           0\n",
              "sex            0\n",
              "age          263\n",
              "sibsp          0\n",
              "parch          0\n",
              "fare           1\n",
              "cabin       1014\n",
              "embarked       2\n",
              "dtype: int64"
            ]
          },
          "execution_count": 12,
          "metadata": {},
          "output_type": "execute_result"
        }
      ],
      "source": [
        "X.isnull().sum()"
      ]
    },
    {
      "cell_type": "markdown",
      "metadata": {
        "id": "j-y_aDAldGVh"
      },
      "source": [
        "- 결측치 개수만 봐서는 제거대상인지 모호하다.\n",
        "- 하여 전체 데이터 대비 결측치 비율을 환산한다.\n",
        "- (결측치 합/ 전체 값) * 100"
      ]
    },
    {
      "cell_type": "code",
      "execution_count": 13,
      "metadata": {
        "colab": {
          "base_uri": "https://localhost:8080/"
        },
        "id": "IEz1_fjDdRsi",
        "outputId": "0ea3f919-6955-4ba7-b04a-48cb70200f09"
      },
      "outputs": [
        {
          "data": {
            "text/plain": [
              "pclass       0.000000\n",
              "name         0.000000\n",
              "sex          0.000000\n",
              "age         20.091673\n",
              "sibsp        0.000000\n",
              "parch        0.000000\n",
              "fare         0.076394\n",
              "cabin       77.463713\n",
              "embarked     0.152788\n",
              "dtype: float64"
            ]
          },
          "execution_count": 13,
          "metadata": {},
          "output_type": "execute_result"
        }
      ],
      "source": [
        "null_value = (X.isnull().sum() / len(X)) * 100\n",
        "null_value"
      ]
    },
    {
      "cell_type": "markdown",
      "metadata": {
        "id": "w3fILdRkdwaf"
      },
      "source": [
        "- 결측치 비율이 많은 cabin 칼럼 삭제"
      ]
    },
    {
      "cell_type": "code",
      "execution_count": 14,
      "metadata": {
        "id": "KhAlEi6sd1pZ"
      },
      "outputs": [],
      "source": [
        "X.drop([\"cabin\"], axis = 1, inplace = True)"
      ]
    },
    {
      "cell_type": "code",
      "execution_count": 15,
      "metadata": {
        "colab": {
          "base_uri": "https://localhost:8080/"
        },
        "id": "JTz4CTmZd_pP",
        "outputId": "e6a47a70-c7e4-465b-ba6d-abd761a12b9f"
      },
      "outputs": [
        {
          "data": {
            "text/plain": [
              "Index(['pclass', 'name', 'sex', 'age', 'sibsp', 'parch', 'fare', 'embarked'], dtype='object')"
            ]
          },
          "execution_count": 15,
          "metadata": {},
          "output_type": "execute_result"
        }
      ],
      "source": [
        "X.columns"
      ]
    },
    {
      "cell_type": "markdown",
      "metadata": {
        "id": "KnQVNT9EeI_H"
      },
      "source": [
        "#### 4.4 동반 탑승객과 혼자 탑승객을 분류"
      ]
    },
    {
      "cell_type": "markdown",
      "metadata": {
        "id": "cqUc7zD8emhv"
      },
      "source": [
        "- family 칼럼 생성하여 동반 탑승자 수를 표시\n",
        "  * sibsp\t: 함께 승선한 형제, 자매, 배우자 수\n",
        "  * parch\t: 함께 승선한 부모 자식 수"
      ]
    },
    {
      "cell_type": "code",
      "execution_count": 16,
      "metadata": {
        "colab": {
          "base_uri": "https://localhost:8080/",
          "height": 224
        },
        "id": "DrK_M2ldeITZ",
        "outputId": "5fc5c5f1-5b1b-4c29-bb06-361a5b23c1a1"
      },
      "outputs": [
        {
          "data": {
            "text/html": [
              "<div>\n",
              "<style scoped>\n",
              "    .dataframe tbody tr th:only-of-type {\n",
              "        vertical-align: middle;\n",
              "    }\n",
              "\n",
              "    .dataframe tbody tr th {\n",
              "        vertical-align: top;\n",
              "    }\n",
              "\n",
              "    .dataframe thead th {\n",
              "        text-align: right;\n",
              "    }\n",
              "</style>\n",
              "<table border=\"1\" class=\"dataframe\">\n",
              "  <thead>\n",
              "    <tr style=\"text-align: right;\">\n",
              "      <th></th>\n",
              "      <th>pclass</th>\n",
              "      <th>name</th>\n",
              "      <th>sex</th>\n",
              "      <th>age</th>\n",
              "      <th>sibsp</th>\n",
              "      <th>parch</th>\n",
              "      <th>fare</th>\n",
              "      <th>embarked</th>\n",
              "      <th>family</th>\n",
              "    </tr>\n",
              "  </thead>\n",
              "  <tbody>\n",
              "    <tr>\n",
              "      <th>0</th>\n",
              "      <td>1.0</td>\n",
              "      <td>Allen, Miss. Elisabeth Walton</td>\n",
              "      <td>female</td>\n",
              "      <td>29.0000</td>\n",
              "      <td>0.0</td>\n",
              "      <td>0.0</td>\n",
              "      <td>211.3375</td>\n",
              "      <td>S</td>\n",
              "      <td>0.0</td>\n",
              "    </tr>\n",
              "    <tr>\n",
              "      <th>1</th>\n",
              "      <td>1.0</td>\n",
              "      <td>Allison, Master. Hudson Trevor</td>\n",
              "      <td>male</td>\n",
              "      <td>0.9167</td>\n",
              "      <td>1.0</td>\n",
              "      <td>2.0</td>\n",
              "      <td>151.5500</td>\n",
              "      <td>S</td>\n",
              "      <td>3.0</td>\n",
              "    </tr>\n",
              "    <tr>\n",
              "      <th>2</th>\n",
              "      <td>1.0</td>\n",
              "      <td>Allison, Miss. Helen Loraine</td>\n",
              "      <td>female</td>\n",
              "      <td>2.0000</td>\n",
              "      <td>1.0</td>\n",
              "      <td>2.0</td>\n",
              "      <td>151.5500</td>\n",
              "      <td>S</td>\n",
              "      <td>3.0</td>\n",
              "    </tr>\n",
              "    <tr>\n",
              "      <th>3</th>\n",
              "      <td>1.0</td>\n",
              "      <td>Allison, Mr. Hudson Joshua Creighton</td>\n",
              "      <td>male</td>\n",
              "      <td>30.0000</td>\n",
              "      <td>1.0</td>\n",
              "      <td>2.0</td>\n",
              "      <td>151.5500</td>\n",
              "      <td>S</td>\n",
              "      <td>3.0</td>\n",
              "    </tr>\n",
              "    <tr>\n",
              "      <th>4</th>\n",
              "      <td>1.0</td>\n",
              "      <td>Allison, Mrs. Hudson J C (Bessie Waldo Daniels)</td>\n",
              "      <td>female</td>\n",
              "      <td>25.0000</td>\n",
              "      <td>1.0</td>\n",
              "      <td>2.0</td>\n",
              "      <td>151.5500</td>\n",
              "      <td>S</td>\n",
              "      <td>3.0</td>\n",
              "    </tr>\n",
              "  </tbody>\n",
              "</table>\n",
              "</div>"
            ],
            "text/plain": [
              "   pclass                                             name     sex      age  \\\n",
              "0     1.0                    Allen, Miss. Elisabeth Walton  female  29.0000   \n",
              "1     1.0                   Allison, Master. Hudson Trevor    male   0.9167   \n",
              "2     1.0                     Allison, Miss. Helen Loraine  female   2.0000   \n",
              "3     1.0             Allison, Mr. Hudson Joshua Creighton    male  30.0000   \n",
              "4     1.0  Allison, Mrs. Hudson J C (Bessie Waldo Daniels)  female  25.0000   \n",
              "\n",
              "   sibsp  parch      fare embarked  family  \n",
              "0    0.0    0.0  211.3375        S     0.0  \n",
              "1    1.0    2.0  151.5500        S     3.0  \n",
              "2    1.0    2.0  151.5500        S     3.0  \n",
              "3    1.0    2.0  151.5500        S     3.0  \n",
              "4    1.0    2.0  151.5500        S     3.0  "
            ]
          },
          "execution_count": 16,
          "metadata": {},
          "output_type": "execute_result"
        }
      ],
      "source": [
        "X[\"family\"] = pd.concat([X[\"sibsp\"], X[\"parch\"]], axis = 1, ).sum(axis = 1)\n",
        "\n",
        "X.head()"
      ]
    },
    {
      "cell_type": "markdown",
      "metadata": {
        "id": "eNdeHPxygE5b"
      },
      "source": [
        "- family 칼럼 생성하여 sibsp, parch 데이터 합쳤으니 해당 칼럼 제거"
      ]
    },
    {
      "cell_type": "code",
      "execution_count": 17,
      "metadata": {
        "colab": {
          "base_uri": "https://localhost:8080/"
        },
        "id": "aBEFShLvgEe2",
        "outputId": "661ccaf3-5287-4290-b222-48fa9b277271"
      },
      "outputs": [
        {
          "data": {
            "text/plain": [
              "Index(['pclass', 'name', 'sex', 'age', 'fare', 'embarked', 'family'], dtype='object')"
            ]
          },
          "execution_count": 17,
          "metadata": {},
          "output_type": "execute_result"
        }
      ],
      "source": [
        "X.drop([\"sibsp\", \"parch\"], axis = 1, inplace = True)\n",
        "\n",
        "X.columns"
      ]
    },
    {
      "cell_type": "markdown",
      "metadata": {
        "id": "mBrAFKNAgpOS"
      },
      "source": [
        "- 혼자 탑승한 고객 alone 칼럼 생성"
      ]
    },
    {
      "cell_type": "code",
      "execution_count": 18,
      "metadata": {
        "colab": {
          "base_uri": "https://localhost:8080/",
          "height": 363
        },
        "id": "v1svbhEiggvf",
        "outputId": "6af066dc-291f-4cfa-a534-4edf6c8f9b8b"
      },
      "outputs": [
        {
          "data": {
            "text/html": [
              "<div>\n",
              "<style scoped>\n",
              "    .dataframe tbody tr th:only-of-type {\n",
              "        vertical-align: middle;\n",
              "    }\n",
              "\n",
              "    .dataframe tbody tr th {\n",
              "        vertical-align: top;\n",
              "    }\n",
              "\n",
              "    .dataframe thead th {\n",
              "        text-align: right;\n",
              "    }\n",
              "</style>\n",
              "<table border=\"1\" class=\"dataframe\">\n",
              "  <thead>\n",
              "    <tr style=\"text-align: right;\">\n",
              "      <th></th>\n",
              "      <th>pclass</th>\n",
              "      <th>name</th>\n",
              "      <th>sex</th>\n",
              "      <th>age</th>\n",
              "      <th>fare</th>\n",
              "      <th>embarked</th>\n",
              "      <th>family</th>\n",
              "      <th>alone</th>\n",
              "    </tr>\n",
              "  </thead>\n",
              "  <tbody>\n",
              "    <tr>\n",
              "      <th>0</th>\n",
              "      <td>1.0</td>\n",
              "      <td>Allen, Miss. Elisabeth Walton</td>\n",
              "      <td>female</td>\n",
              "      <td>29.0000</td>\n",
              "      <td>211.3375</td>\n",
              "      <td>S</td>\n",
              "      <td>0.0</td>\n",
              "      <td>1</td>\n",
              "    </tr>\n",
              "    <tr>\n",
              "      <th>1</th>\n",
              "      <td>1.0</td>\n",
              "      <td>Allison, Master. Hudson Trevor</td>\n",
              "      <td>male</td>\n",
              "      <td>0.9167</td>\n",
              "      <td>151.5500</td>\n",
              "      <td>S</td>\n",
              "      <td>3.0</td>\n",
              "      <td>0</td>\n",
              "    </tr>\n",
              "    <tr>\n",
              "      <th>2</th>\n",
              "      <td>1.0</td>\n",
              "      <td>Allison, Miss. Helen Loraine</td>\n",
              "      <td>female</td>\n",
              "      <td>2.0000</td>\n",
              "      <td>151.5500</td>\n",
              "      <td>S</td>\n",
              "      <td>3.0</td>\n",
              "      <td>0</td>\n",
              "    </tr>\n",
              "    <tr>\n",
              "      <th>3</th>\n",
              "      <td>1.0</td>\n",
              "      <td>Allison, Mr. Hudson Joshua Creighton</td>\n",
              "      <td>male</td>\n",
              "      <td>30.0000</td>\n",
              "      <td>151.5500</td>\n",
              "      <td>S</td>\n",
              "      <td>3.0</td>\n",
              "      <td>0</td>\n",
              "    </tr>\n",
              "    <tr>\n",
              "      <th>4</th>\n",
              "      <td>1.0</td>\n",
              "      <td>Allison, Mrs. Hudson J C (Bessie Waldo Daniels)</td>\n",
              "      <td>female</td>\n",
              "      <td>25.0000</td>\n",
              "      <td>151.5500</td>\n",
              "      <td>S</td>\n",
              "      <td>3.0</td>\n",
              "      <td>0</td>\n",
              "    </tr>\n",
              "    <tr>\n",
              "      <th>5</th>\n",
              "      <td>1.0</td>\n",
              "      <td>Anderson, Mr. Harry</td>\n",
              "      <td>male</td>\n",
              "      <td>48.0000</td>\n",
              "      <td>26.5500</td>\n",
              "      <td>S</td>\n",
              "      <td>0.0</td>\n",
              "      <td>1</td>\n",
              "    </tr>\n",
              "    <tr>\n",
              "      <th>6</th>\n",
              "      <td>1.0</td>\n",
              "      <td>Andrews, Miss. Kornelia Theodosia</td>\n",
              "      <td>female</td>\n",
              "      <td>63.0000</td>\n",
              "      <td>77.9583</td>\n",
              "      <td>S</td>\n",
              "      <td>1.0</td>\n",
              "      <td>0</td>\n",
              "    </tr>\n",
              "    <tr>\n",
              "      <th>7</th>\n",
              "      <td>1.0</td>\n",
              "      <td>Andrews, Mr. Thomas Jr</td>\n",
              "      <td>male</td>\n",
              "      <td>39.0000</td>\n",
              "      <td>0.0000</td>\n",
              "      <td>S</td>\n",
              "      <td>0.0</td>\n",
              "      <td>1</td>\n",
              "    </tr>\n",
              "    <tr>\n",
              "      <th>8</th>\n",
              "      <td>1.0</td>\n",
              "      <td>Appleton, Mrs. Edward Dale (Charlotte Lamson)</td>\n",
              "      <td>female</td>\n",
              "      <td>53.0000</td>\n",
              "      <td>51.4792</td>\n",
              "      <td>S</td>\n",
              "      <td>2.0</td>\n",
              "      <td>0</td>\n",
              "    </tr>\n",
              "    <tr>\n",
              "      <th>9</th>\n",
              "      <td>1.0</td>\n",
              "      <td>Artagaveytia, Mr. Ramon</td>\n",
              "      <td>male</td>\n",
              "      <td>71.0000</td>\n",
              "      <td>49.5042</td>\n",
              "      <td>C</td>\n",
              "      <td>0.0</td>\n",
              "      <td>1</td>\n",
              "    </tr>\n",
              "  </tbody>\n",
              "</table>\n",
              "</div>"
            ],
            "text/plain": [
              "   pclass                                             name     sex      age  \\\n",
              "0     1.0                    Allen, Miss. Elisabeth Walton  female  29.0000   \n",
              "1     1.0                   Allison, Master. Hudson Trevor    male   0.9167   \n",
              "2     1.0                     Allison, Miss. Helen Loraine  female   2.0000   \n",
              "3     1.0             Allison, Mr. Hudson Joshua Creighton    male  30.0000   \n",
              "4     1.0  Allison, Mrs. Hudson J C (Bessie Waldo Daniels)  female  25.0000   \n",
              "5     1.0                              Anderson, Mr. Harry    male  48.0000   \n",
              "6     1.0                Andrews, Miss. Kornelia Theodosia  female  63.0000   \n",
              "7     1.0                           Andrews, Mr. Thomas Jr    male  39.0000   \n",
              "8     1.0    Appleton, Mrs. Edward Dale (Charlotte Lamson)  female  53.0000   \n",
              "9     1.0                          Artagaveytia, Mr. Ramon    male  71.0000   \n",
              "\n",
              "       fare embarked  family alone  \n",
              "0  211.3375        S     0.0     1  \n",
              "1  151.5500        S     3.0     0  \n",
              "2  151.5500        S     3.0     0  \n",
              "3  151.5500        S     3.0     0  \n",
              "4  151.5500        S     3.0     0  \n",
              "5   26.5500        S     0.0     1  \n",
              "6   77.9583        S     1.0     0  \n",
              "7    0.0000        S     0.0     1  \n",
              "8   51.4792        S     2.0     0  \n",
              "9   49.5042        C     0.0     1  "
            ]
          },
          "execution_count": 18,
          "metadata": {},
          "output_type": "execute_result"
        }
      ],
      "source": [
        "X[\"alone\"] = \"0\"\n",
        "\n",
        "family_zero = X[\"family\"] == 0\n",
        "X.loc[family_zero, \"alone\"] = 1\n",
        "\n",
        "X.head(10)"
      ]
    },
    {
      "cell_type": "markdown",
      "metadata": {
        "id": "lONxBCyOprXd"
      },
      "source": [
        "- 승객 이름 간소화 : 성별 구분기호에 따른 구분"
      ]
    },
    {
      "cell_type": "code",
      "execution_count": 19,
      "metadata": {
        "colab": {
          "base_uri": "https://localhost:8080/",
          "height": 363
        },
        "id": "R1t3o88RqoQe",
        "outputId": "9f20db41-1b02-4ee0-c76f-4a5c6367e171"
      },
      "outputs": [
        {
          "data": {
            "text/html": [
              "<div>\n",
              "<style scoped>\n",
              "    .dataframe tbody tr th:only-of-type {\n",
              "        vertical-align: middle;\n",
              "    }\n",
              "\n",
              "    .dataframe tbody tr th {\n",
              "        vertical-align: top;\n",
              "    }\n",
              "\n",
              "    .dataframe thead th {\n",
              "        text-align: right;\n",
              "    }\n",
              "</style>\n",
              "<table border=\"1\" class=\"dataframe\">\n",
              "  <thead>\n",
              "    <tr style=\"text-align: right;\">\n",
              "      <th></th>\n",
              "      <th>pclass</th>\n",
              "      <th>sex</th>\n",
              "      <th>age</th>\n",
              "      <th>fare</th>\n",
              "      <th>embarked</th>\n",
              "      <th>family</th>\n",
              "      <th>alone</th>\n",
              "      <th>title</th>\n",
              "    </tr>\n",
              "  </thead>\n",
              "  <tbody>\n",
              "    <tr>\n",
              "      <th>0</th>\n",
              "      <td>1.0</td>\n",
              "      <td>female</td>\n",
              "      <td>29.0000</td>\n",
              "      <td>211.3375</td>\n",
              "      <td>S</td>\n",
              "      <td>0.0</td>\n",
              "      <td>1</td>\n",
              "      <td>Miss</td>\n",
              "    </tr>\n",
              "    <tr>\n",
              "      <th>1</th>\n",
              "      <td>1.0</td>\n",
              "      <td>male</td>\n",
              "      <td>0.9167</td>\n",
              "      <td>151.5500</td>\n",
              "      <td>S</td>\n",
              "      <td>3.0</td>\n",
              "      <td>0</td>\n",
              "      <td>Master</td>\n",
              "    </tr>\n",
              "    <tr>\n",
              "      <th>2</th>\n",
              "      <td>1.0</td>\n",
              "      <td>female</td>\n",
              "      <td>2.0000</td>\n",
              "      <td>151.5500</td>\n",
              "      <td>S</td>\n",
              "      <td>3.0</td>\n",
              "      <td>0</td>\n",
              "      <td>Miss</td>\n",
              "    </tr>\n",
              "    <tr>\n",
              "      <th>3</th>\n",
              "      <td>1.0</td>\n",
              "      <td>male</td>\n",
              "      <td>30.0000</td>\n",
              "      <td>151.5500</td>\n",
              "      <td>S</td>\n",
              "      <td>3.0</td>\n",
              "      <td>0</td>\n",
              "      <td>Mr</td>\n",
              "    </tr>\n",
              "    <tr>\n",
              "      <th>4</th>\n",
              "      <td>1.0</td>\n",
              "      <td>female</td>\n",
              "      <td>25.0000</td>\n",
              "      <td>151.5500</td>\n",
              "      <td>S</td>\n",
              "      <td>3.0</td>\n",
              "      <td>0</td>\n",
              "      <td>Mrs</td>\n",
              "    </tr>\n",
              "    <tr>\n",
              "      <th>5</th>\n",
              "      <td>1.0</td>\n",
              "      <td>male</td>\n",
              "      <td>48.0000</td>\n",
              "      <td>26.5500</td>\n",
              "      <td>S</td>\n",
              "      <td>0.0</td>\n",
              "      <td>1</td>\n",
              "      <td>Mr</td>\n",
              "    </tr>\n",
              "    <tr>\n",
              "      <th>6</th>\n",
              "      <td>1.0</td>\n",
              "      <td>female</td>\n",
              "      <td>63.0000</td>\n",
              "      <td>77.9583</td>\n",
              "      <td>S</td>\n",
              "      <td>1.0</td>\n",
              "      <td>0</td>\n",
              "      <td>Miss</td>\n",
              "    </tr>\n",
              "    <tr>\n",
              "      <th>7</th>\n",
              "      <td>1.0</td>\n",
              "      <td>male</td>\n",
              "      <td>39.0000</td>\n",
              "      <td>0.0000</td>\n",
              "      <td>S</td>\n",
              "      <td>0.0</td>\n",
              "      <td>1</td>\n",
              "      <td>Mr</td>\n",
              "    </tr>\n",
              "    <tr>\n",
              "      <th>8</th>\n",
              "      <td>1.0</td>\n",
              "      <td>female</td>\n",
              "      <td>53.0000</td>\n",
              "      <td>51.4792</td>\n",
              "      <td>S</td>\n",
              "      <td>2.0</td>\n",
              "      <td>0</td>\n",
              "      <td>Mrs</td>\n",
              "    </tr>\n",
              "    <tr>\n",
              "      <th>9</th>\n",
              "      <td>1.0</td>\n",
              "      <td>male</td>\n",
              "      <td>71.0000</td>\n",
              "      <td>49.5042</td>\n",
              "      <td>C</td>\n",
              "      <td>0.0</td>\n",
              "      <td>1</td>\n",
              "      <td>Mr</td>\n",
              "    </tr>\n",
              "  </tbody>\n",
              "</table>\n",
              "</div>"
            ],
            "text/plain": [
              "   pclass     sex      age      fare embarked  family alone   title\n",
              "0     1.0  female  29.0000  211.3375        S     0.0     1    Miss\n",
              "1     1.0    male   0.9167  151.5500        S     3.0     0  Master\n",
              "2     1.0  female   2.0000  151.5500        S     3.0     0    Miss\n",
              "3     1.0    male  30.0000  151.5500        S     3.0     0      Mr\n",
              "4     1.0  female  25.0000  151.5500        S     3.0     0     Mrs\n",
              "5     1.0    male  48.0000   26.5500        S     0.0     1      Mr\n",
              "6     1.0  female  63.0000   77.9583        S     1.0     0    Miss\n",
              "7     1.0    male  39.0000    0.0000        S     0.0     1      Mr\n",
              "8     1.0  female  53.0000   51.4792        S     2.0     0     Mrs\n",
              "9     1.0    male  71.0000   49.5042        C     0.0     1      Mr"
            ]
          },
          "execution_count": 19,
          "metadata": {},
          "output_type": "execute_result"
        }
      ],
      "source": [
        "# 명칭만 추출하는 title 칼럼 생성\n",
        "\n",
        "X[\"title\"] = X[\"name\"].str.split(\", \", expand = True)[1].str.split(\". \", expand = True)[0]\n",
        "\n",
        "# 기존 name 칼럼 삭제\n",
        "\n",
        "X.drop([\"name\"], axis = 1, inplace = True)\n",
        "\n",
        "X.head(10)"
      ]
    },
    {
      "cell_type": "code",
      "execution_count": 20,
      "metadata": {
        "colab": {
          "base_uri": "https://localhost:8080/",
          "height": 645
        },
        "id": "lNC5b8sopx9Q",
        "outputId": "1d5a4e44-967b-496a-db0c-076d161104a8"
      },
      "outputs": [
        {
          "data": {
            "text/html": [
              "<div>\n",
              "<style scoped>\n",
              "    .dataframe tbody tr th:only-of-type {\n",
              "        vertical-align: middle;\n",
              "    }\n",
              "\n",
              "    .dataframe tbody tr th {\n",
              "        vertical-align: top;\n",
              "    }\n",
              "\n",
              "    .dataframe thead th {\n",
              "        text-align: right;\n",
              "    }\n",
              "</style>\n",
              "<table border=\"1\" class=\"dataframe\">\n",
              "  <thead>\n",
              "    <tr style=\"text-align: right;\">\n",
              "      <th>sex</th>\n",
              "      <th>female</th>\n",
              "      <th>male</th>\n",
              "    </tr>\n",
              "    <tr>\n",
              "      <th>title</th>\n",
              "      <th></th>\n",
              "      <th></th>\n",
              "    </tr>\n",
              "  </thead>\n",
              "  <tbody>\n",
              "    <tr>\n",
              "      <th>Capt</th>\n",
              "      <td>0</td>\n",
              "      <td>1</td>\n",
              "    </tr>\n",
              "    <tr>\n",
              "      <th>Col</th>\n",
              "      <td>0</td>\n",
              "      <td>4</td>\n",
              "    </tr>\n",
              "    <tr>\n",
              "      <th>Don</th>\n",
              "      <td>0</td>\n",
              "      <td>1</td>\n",
              "    </tr>\n",
              "    <tr>\n",
              "      <th>Dona</th>\n",
              "      <td>1</td>\n",
              "      <td>0</td>\n",
              "    </tr>\n",
              "    <tr>\n",
              "      <th>Dr</th>\n",
              "      <td>1</td>\n",
              "      <td>7</td>\n",
              "    </tr>\n",
              "    <tr>\n",
              "      <th>Jonkheer</th>\n",
              "      <td>0</td>\n",
              "      <td>1</td>\n",
              "    </tr>\n",
              "    <tr>\n",
              "      <th>Lady</th>\n",
              "      <td>1</td>\n",
              "      <td>0</td>\n",
              "    </tr>\n",
              "    <tr>\n",
              "      <th>Major</th>\n",
              "      <td>0</td>\n",
              "      <td>2</td>\n",
              "    </tr>\n",
              "    <tr>\n",
              "      <th>Master</th>\n",
              "      <td>0</td>\n",
              "      <td>61</td>\n",
              "    </tr>\n",
              "    <tr>\n",
              "      <th>Miss</th>\n",
              "      <td>260</td>\n",
              "      <td>0</td>\n",
              "    </tr>\n",
              "    <tr>\n",
              "      <th>Mlle</th>\n",
              "      <td>2</td>\n",
              "      <td>0</td>\n",
              "    </tr>\n",
              "    <tr>\n",
              "      <th>Mme</th>\n",
              "      <td>1</td>\n",
              "      <td>0</td>\n",
              "    </tr>\n",
              "    <tr>\n",
              "      <th>Mr</th>\n",
              "      <td>0</td>\n",
              "      <td>757</td>\n",
              "    </tr>\n",
              "    <tr>\n",
              "      <th>Mrs</th>\n",
              "      <td>197</td>\n",
              "      <td>0</td>\n",
              "    </tr>\n",
              "    <tr>\n",
              "      <th>Ms</th>\n",
              "      <td>2</td>\n",
              "      <td>0</td>\n",
              "    </tr>\n",
              "    <tr>\n",
              "      <th>Rev</th>\n",
              "      <td>0</td>\n",
              "      <td>8</td>\n",
              "    </tr>\n",
              "    <tr>\n",
              "      <th>Sir</th>\n",
              "      <td>0</td>\n",
              "      <td>1</td>\n",
              "    </tr>\n",
              "    <tr>\n",
              "      <th>th</th>\n",
              "      <td>1</td>\n",
              "      <td>0</td>\n",
              "    </tr>\n",
              "  </tbody>\n",
              "</table>\n",
              "</div>"
            ],
            "text/plain": [
              "sex       female  male\n",
              "title                 \n",
              "Capt           0     1\n",
              "Col            0     4\n",
              "Don            0     1\n",
              "Dona           1     0\n",
              "Dr             1     7\n",
              "Jonkheer       0     1\n",
              "Lady           1     0\n",
              "Major          0     2\n",
              "Master         0    61\n",
              "Miss         260     0\n",
              "Mlle           2     0\n",
              "Mme            1     0\n",
              "Mr             0   757\n",
              "Mrs          197     0\n",
              "Ms             2     0\n",
              "Rev            0     8\n",
              "Sir            0     1\n",
              "th             1     0"
            ]
          },
          "execution_count": 20,
          "metadata": {},
          "output_type": "execute_result"
        }
      ],
      "source": [
        "# 남성, 여성 고유명칭 파악\n",
        "\n",
        "pd.crosstab(X[\"title\"], X[\"sex\"])"
      ]
    },
    {
      "cell_type": "markdown",
      "metadata": {
        "id": "M7xbpDkbrgd6"
      },
      "source": [
        "남성 : Master, Mr / 여성 : Miss, Mrs / etc 로 나뉜다.\n"
      ]
    },
    {
      "cell_type": "markdown",
      "metadata": {
        "id": "-BieGAAvsUny"
      },
      "source": [
        "남성, 여성, etc 세 분류로 요약한다."
      ]
    },
    {
      "cell_type": "code",
      "execution_count": 21,
      "metadata": {
        "colab": {
          "base_uri": "https://localhost:8080/"
        },
        "id": "srzunPIerfnk",
        "outputId": "946a6d88-6792-4024-c9d4-4aba69ce694a"
      },
      "outputs": [
        {
          "data": {
            "text/plain": [
              "title\n",
              "Man      818\n",
              "Woman    457\n",
              "etc       34\n",
              "Name: count, dtype: int64"
            ]
          },
          "execution_count": 21,
          "metadata": {},
          "output_type": "execute_result"
        }
      ],
      "source": [
        "# 남성 요약\n",
        "\n",
        "Man_title = (X.title == \"Master\") | (X.title == \"Mr\")\n",
        "X.loc[Man_title, \"title\"] = \"Man\"\n",
        "\n",
        "# 여성 요약\n",
        "\n",
        "Woman_title = (X.title == \"Miss\") | (X.title == \"Mrs\")\n",
        "X.loc[Woman_title, \"title\"] = \"Woman\"\n",
        "\n",
        "\n",
        "# etc 요약\n",
        "\n",
        "etc_title = (X[\"title\"].value_counts() < 10 )\n",
        "\n",
        "X[\"title\"] = X.title.apply(lambda x: \"etc\" if etc_title[x] else x)\n",
        "\n",
        "# 결과 확인\n",
        "\n",
        "X[\"title\"].value_counts()"
      ]
    },
    {
      "cell_type": "markdown",
      "metadata": {
        "id": "bdaBIPkVvGui"
      },
      "source": [
        "## 5. 데이터 분석"
      ]
    },
    {
      "cell_type": "markdown",
      "metadata": {
        "id": "e845y81QvQ47"
      },
      "source": [
        "#### 5.1 x, y 데이터 결합"
      ]
    },
    {
      "cell_type": "code",
      "execution_count": 22,
      "metadata": {
        "colab": {
          "base_uri": "https://localhost:8080/",
          "height": 424
        },
        "id": "cC9BnsAwvNC5",
        "outputId": "7a66ebe8-693b-4841-877f-7ac16e46ff00"
      },
      "outputs": [
        {
          "data": {
            "text/html": [
              "<div>\n",
              "<style scoped>\n",
              "    .dataframe tbody tr th:only-of-type {\n",
              "        vertical-align: middle;\n",
              "    }\n",
              "\n",
              "    .dataframe tbody tr th {\n",
              "        vertical-align: top;\n",
              "    }\n",
              "\n",
              "    .dataframe thead th {\n",
              "        text-align: right;\n",
              "    }\n",
              "</style>\n",
              "<table border=\"1\" class=\"dataframe\">\n",
              "  <thead>\n",
              "    <tr style=\"text-align: right;\">\n",
              "      <th></th>\n",
              "      <th>pclass</th>\n",
              "      <th>sex</th>\n",
              "      <th>age</th>\n",
              "      <th>fare</th>\n",
              "      <th>embarked</th>\n",
              "      <th>family</th>\n",
              "      <th>alone</th>\n",
              "      <th>title</th>\n",
              "      <th>survived</th>\n",
              "    </tr>\n",
              "  </thead>\n",
              "  <tbody>\n",
              "    <tr>\n",
              "      <th>0</th>\n",
              "      <td>1.0</td>\n",
              "      <td>female</td>\n",
              "      <td>29.0000</td>\n",
              "      <td>211.3375</td>\n",
              "      <td>S</td>\n",
              "      <td>0.0</td>\n",
              "      <td>1</td>\n",
              "      <td>Woman</td>\n",
              "      <td>1</td>\n",
              "    </tr>\n",
              "    <tr>\n",
              "      <th>1</th>\n",
              "      <td>1.0</td>\n",
              "      <td>male</td>\n",
              "      <td>0.9167</td>\n",
              "      <td>151.5500</td>\n",
              "      <td>S</td>\n",
              "      <td>3.0</td>\n",
              "      <td>0</td>\n",
              "      <td>Man</td>\n",
              "      <td>1</td>\n",
              "    </tr>\n",
              "    <tr>\n",
              "      <th>2</th>\n",
              "      <td>1.0</td>\n",
              "      <td>female</td>\n",
              "      <td>2.0000</td>\n",
              "      <td>151.5500</td>\n",
              "      <td>S</td>\n",
              "      <td>3.0</td>\n",
              "      <td>0</td>\n",
              "      <td>Woman</td>\n",
              "      <td>0</td>\n",
              "    </tr>\n",
              "    <tr>\n",
              "      <th>3</th>\n",
              "      <td>1.0</td>\n",
              "      <td>male</td>\n",
              "      <td>30.0000</td>\n",
              "      <td>151.5500</td>\n",
              "      <td>S</td>\n",
              "      <td>3.0</td>\n",
              "      <td>0</td>\n",
              "      <td>Man</td>\n",
              "      <td>0</td>\n",
              "    </tr>\n",
              "    <tr>\n",
              "      <th>4</th>\n",
              "      <td>1.0</td>\n",
              "      <td>female</td>\n",
              "      <td>25.0000</td>\n",
              "      <td>151.5500</td>\n",
              "      <td>S</td>\n",
              "      <td>3.0</td>\n",
              "      <td>0</td>\n",
              "      <td>Woman</td>\n",
              "      <td>0</td>\n",
              "    </tr>\n",
              "    <tr>\n",
              "      <th>...</th>\n",
              "      <td>...</td>\n",
              "      <td>...</td>\n",
              "      <td>...</td>\n",
              "      <td>...</td>\n",
              "      <td>...</td>\n",
              "      <td>...</td>\n",
              "      <td>...</td>\n",
              "      <td>...</td>\n",
              "      <td>...</td>\n",
              "    </tr>\n",
              "    <tr>\n",
              "      <th>1304</th>\n",
              "      <td>3.0</td>\n",
              "      <td>female</td>\n",
              "      <td>14.5000</td>\n",
              "      <td>14.4542</td>\n",
              "      <td>C</td>\n",
              "      <td>1.0</td>\n",
              "      <td>0</td>\n",
              "      <td>Woman</td>\n",
              "      <td>0</td>\n",
              "    </tr>\n",
              "    <tr>\n",
              "      <th>1305</th>\n",
              "      <td>3.0</td>\n",
              "      <td>female</td>\n",
              "      <td>NaN</td>\n",
              "      <td>14.4542</td>\n",
              "      <td>C</td>\n",
              "      <td>1.0</td>\n",
              "      <td>0</td>\n",
              "      <td>Woman</td>\n",
              "      <td>0</td>\n",
              "    </tr>\n",
              "    <tr>\n",
              "      <th>1306</th>\n",
              "      <td>3.0</td>\n",
              "      <td>male</td>\n",
              "      <td>26.5000</td>\n",
              "      <td>7.2250</td>\n",
              "      <td>C</td>\n",
              "      <td>0.0</td>\n",
              "      <td>1</td>\n",
              "      <td>Man</td>\n",
              "      <td>0</td>\n",
              "    </tr>\n",
              "    <tr>\n",
              "      <th>1307</th>\n",
              "      <td>3.0</td>\n",
              "      <td>male</td>\n",
              "      <td>27.0000</td>\n",
              "      <td>7.2250</td>\n",
              "      <td>C</td>\n",
              "      <td>0.0</td>\n",
              "      <td>1</td>\n",
              "      <td>Man</td>\n",
              "      <td>0</td>\n",
              "    </tr>\n",
              "    <tr>\n",
              "      <th>1308</th>\n",
              "      <td>3.0</td>\n",
              "      <td>male</td>\n",
              "      <td>29.0000</td>\n",
              "      <td>7.8750</td>\n",
              "      <td>S</td>\n",
              "      <td>0.0</td>\n",
              "      <td>1</td>\n",
              "      <td>Man</td>\n",
              "      <td>0</td>\n",
              "    </tr>\n",
              "  </tbody>\n",
              "</table>\n",
              "<p>1309 rows × 9 columns</p>\n",
              "</div>"
            ],
            "text/plain": [
              "      pclass     sex      age      fare embarked  family alone  title  \\\n",
              "0        1.0  female  29.0000  211.3375        S     0.0     1  Woman   \n",
              "1        1.0    male   0.9167  151.5500        S     3.0     0    Man   \n",
              "2        1.0  female   2.0000  151.5500        S     3.0     0  Woman   \n",
              "3        1.0    male  30.0000  151.5500        S     3.0     0    Man   \n",
              "4        1.0  female  25.0000  151.5500        S     3.0     0  Woman   \n",
              "...      ...     ...      ...       ...      ...     ...   ...    ...   \n",
              "1304     3.0  female  14.5000   14.4542        C     1.0     0  Woman   \n",
              "1305     3.0  female      NaN   14.4542        C     1.0     0  Woman   \n",
              "1306     3.0    male  26.5000    7.2250        C     0.0     1    Man   \n",
              "1307     3.0    male  27.0000    7.2250        C     0.0     1    Man   \n",
              "1308     3.0    male  29.0000    7.8750        S     0.0     1    Man   \n",
              "\n",
              "      survived  \n",
              "0            1  \n",
              "1            1  \n",
              "2            0  \n",
              "3            0  \n",
              "4            0  \n",
              "...        ...  \n",
              "1304         0  \n",
              "1305         0  \n",
              "1306         0  \n",
              "1307         0  \n",
              "1308         0  \n",
              "\n",
              "[1309 rows x 9 columns]"
            ]
          },
          "execution_count": 22,
          "metadata": {},
          "output_type": "execute_result"
        }
      ],
      "source": [
        "Xy = pd.concat([X, y], axis=1)\n",
        "\n",
        "Xy"
      ]
    },
    {
      "cell_type": "markdown",
      "metadata": {
        "id": "VBUVon-svi5B"
      },
      "source": [
        "#### 5.2 변수 간 상관성 확인"
      ]
    },
    {
      "cell_type": "markdown",
      "metadata": {
        "id": "gy9E_J3Qx8p0"
      },
      "source": [
        "- 수치형 변수 목록 확인 : float"
      ]
    },
    {
      "cell_type": "code",
      "execution_count": 23,
      "metadata": {
        "colab": {
          "base_uri": "https://localhost:8080/"
        },
        "id": "Fg6V_I7svfeQ",
        "outputId": "1783dc06-10d3-489f-b79c-e99a3de0f4be"
      },
      "outputs": [
        {
          "data": {
            "text/plain": [
              "Index(['pclass', 'age', 'fare', 'family', 'survived'], dtype='object')"
            ]
          },
          "execution_count": 23,
          "metadata": {},
          "output_type": "execute_result"
        }
      ],
      "source": [
        "num_f = Xy.describe().columns\n",
        "\n",
        "num_f"
      ]
    },
    {
      "cell_type": "markdown",
      "metadata": {
        "id": "a31nB5lQyFz2"
      },
      "source": [
        "- 상관성 분석\n",
        "  - 피어슨 상관계수 : 수치형 변수 상관성 요약표\n",
        "  - 히트맵 시각화"
      ]
    },
    {
      "cell_type": "code",
      "execution_count": 24,
      "metadata": {
        "colab": {
          "base_uri": "https://localhost:8080/",
          "height": 206
        },
        "id": "WrltN_YnyFLP",
        "outputId": "325abd94-d03c-4773-a68a-f0bcca7e6e80"
      },
      "outputs": [
        {
          "data": {
            "text/html": [
              "<div>\n",
              "<style scoped>\n",
              "    .dataframe tbody tr th:only-of-type {\n",
              "        vertical-align: middle;\n",
              "    }\n",
              "\n",
              "    .dataframe tbody tr th {\n",
              "        vertical-align: top;\n",
              "    }\n",
              "\n",
              "    .dataframe thead th {\n",
              "        text-align: right;\n",
              "    }\n",
              "</style>\n",
              "<table border=\"1\" class=\"dataframe\">\n",
              "  <thead>\n",
              "    <tr style=\"text-align: right;\">\n",
              "      <th></th>\n",
              "      <th>pclass</th>\n",
              "      <th>age</th>\n",
              "      <th>fare</th>\n",
              "      <th>family</th>\n",
              "      <th>survived</th>\n",
              "    </tr>\n",
              "  </thead>\n",
              "  <tbody>\n",
              "    <tr>\n",
              "      <th>pclass</th>\n",
              "      <td>1.000000</td>\n",
              "      <td>-0.408106</td>\n",
              "      <td>-0.558629</td>\n",
              "      <td>0.050027</td>\n",
              "      <td>-0.312469</td>\n",
              "    </tr>\n",
              "    <tr>\n",
              "      <th>age</th>\n",
              "      <td>-0.408106</td>\n",
              "      <td>1.000000</td>\n",
              "      <td>0.178739</td>\n",
              "      <td>-0.240230</td>\n",
              "      <td>-0.055513</td>\n",
              "    </tr>\n",
              "    <tr>\n",
              "      <th>fare</th>\n",
              "      <td>-0.558629</td>\n",
              "      <td>0.178739</td>\n",
              "      <td>1.000000</td>\n",
              "      <td>0.226492</td>\n",
              "      <td>0.244265</td>\n",
              "    </tr>\n",
              "    <tr>\n",
              "      <th>family</th>\n",
              "      <td>0.050027</td>\n",
              "      <td>-0.240230</td>\n",
              "      <td>0.226492</td>\n",
              "      <td>1.000000</td>\n",
              "      <td>0.026876</td>\n",
              "    </tr>\n",
              "    <tr>\n",
              "      <th>survived</th>\n",
              "      <td>-0.312469</td>\n",
              "      <td>-0.055513</td>\n",
              "      <td>0.244265</td>\n",
              "      <td>0.026876</td>\n",
              "      <td>1.000000</td>\n",
              "    </tr>\n",
              "  </tbody>\n",
              "</table>\n",
              "</div>"
            ],
            "text/plain": [
              "            pclass       age      fare    family  survived\n",
              "pclass    1.000000 -0.408106 -0.558629  0.050027 -0.312469\n",
              "age      -0.408106  1.000000  0.178739 -0.240230 -0.055513\n",
              "fare     -0.558629  0.178739  1.000000  0.226492  0.244265\n",
              "family    0.050027 -0.240230  0.226492  1.000000  0.026876\n",
              "survived -0.312469 -0.055513  0.244265  0.026876  1.000000"
            ]
          },
          "execution_count": 24,
          "metadata": {},
          "output_type": "execute_result"
        }
      ],
      "source": [
        "corr = Xy[num_f].corr()\n",
        "\n",
        "corr"
      ]
    },
    {
      "cell_type": "code",
      "execution_count": 25,
      "metadata": {
        "colab": {
          "base_uri": "https://localhost:8080/",
          "height": 379
        },
        "id": "AImoU1Nky_E5",
        "outputId": "9dafcb6c-8358-46c3-a60d-4fbddd8ca2c9"
      },
      "outputs": [
        {
          "data": {
            "image/png": "[encoded data removed]",
            "text/plain": [
              "<Figure size 800x400 with 2 Axes>"
            ]
          },
          "metadata": {},
          "output_type": "display_data"
        }
      ],
      "source": [
        "corr_hit = sns.heatmap(corr, annot = True, cmap = \"coolwarm\")"
      ]
    },
    {
      "cell_type": "markdown",
      "metadata": {
        "id": "tD3c3pwUzLrn"
      },
      "source": [
        "survived, familiy 변수가 fare(티켓요금)에 대해 상대적으로 높은 상관관계가 도출된다."
      ]
    },
    {
      "cell_type": "markdown",
      "metadata": {
        "id": "T90Opuv-0EKL"
      },
      "source": [
        "#### 5.3 변수 별 생존자 수 파악"
      ]
    },
    {
      "cell_type": "code",
      "execution_count": 26,
      "metadata": {
        "colab": {
          "base_uri": "https://localhost:8080/"
        },
        "id": "agw25SZxzOzu",
        "outputId": "2eb70033-5934-4a8a-bea2-445b6e7d8a4b"
      },
      "outputs": [
        {
          "data": {
            "text/plain": [
              "survived\n",
              "0    809\n",
              "1    500\n",
              "Name: count, dtype: int64"
            ]
          },
          "execution_count": 26,
          "metadata": {},
          "output_type": "execute_result"
        }
      ],
      "source": [
        "sex_sur = Xy.survived.value_counts()\n",
        "\n",
        "sex_sur"
      ]
    },
    {
      "cell_type": "markdown",
      "metadata": {
        "id": "lLseS0lsj6oR"
      },
      "source": [
        "- 탑승객 대비 생존자 수"
      ]
    },
    {
      "cell_type": "code",
      "execution_count": 27,
      "metadata": {
        "colab": {
          "base_uri": "https://localhost:8080/",
          "height": 405
        },
        "id": "0-tQD8ka0zQx",
        "outputId": "5ff7e4a6-ca6d-4c6f-c95a-7bd6fd5007fc"
      },
      "outputs": [
        {
          "data": {
            "image/png": "[encoded data removed]",
            "text/plain": [
              "<Figure size 800x400 with 1 Axes>"
            ]
          },
          "metadata": {},
          "output_type": "display_data"
        }
      ],
      "source": [
        "fig, ax = plt.subplots()\n",
        "\n",
        "sex_sur.plot(kind = \"bar\", xticks = [0, 1], rot = 0)\n",
        "ax.set_xticklabels([\"died\", \"alive\"], fontsize = 0)\n",
        "ax.set(xlabel = \"Survival\", ylabel = \"passenger\", title = \"Number of passenger based on their survival\")\n",
        "plt.show()"
      ]
    },
    {
      "cell_type": "markdown",
      "metadata": {
        "id": "jYvkYJc7j-Ej"
      },
      "source": [
        "- 성별 생존자 수"
      ]
    },
    {
      "cell_type": "code",
      "execution_count": 28,
      "metadata": {
        "colab": {
          "base_uri": "https://localhost:8080/",
          "height": 419
        },
        "id": "ctasGwJIjhpz",
        "outputId": "11e93838-d240-4f1d-bfa7-5bc3b816fee8"
      },
      "outputs": [
        {
          "data": {
            "image/png": "[encoded data removed]",
            "text/plain": [
              "<Figure size 800x400 with 1 Axes>"
            ]
          },
          "metadata": {},
          "output_type": "display_data"
        }
      ],
      "source": [
        "sns.barplot(data = Xy, x = \"sex\", y = \"survived\")\n",
        "plt.title(\"Survival by gender\")\n",
        "plt.show()"
      ]
    },
    {
      "cell_type": "markdown",
      "metadata": {
        "id": "ABRqYuyPkJCU"
      },
      "source": [
        "- 나이대 별 생존자 수 분석"
      ]
    },
    {
      "cell_type": "code",
      "execution_count": 29,
      "metadata": {
        "colab": {
          "base_uri": "https://localhost:8080/"
        },
        "id": "-o0a_Y1nj3n9",
        "outputId": "f5c25def-7398-42e6-90a3-cc268eae8bbb"
      },
      "outputs": [
        {
          "data": {
            "text/plain": [
              "263"
            ]
          },
          "execution_count": 29,
          "metadata": {},
          "output_type": "execute_result"
        }
      ],
      "source": [
        "Xy.age.isnull().sum()"
      ]
    },
    {
      "cell_type": "code",
      "execution_count": 30,
      "metadata": {
        "colab": {
          "base_uri": "https://localhost:8080/"
        },
        "id": "PUCMXjhGkUEX",
        "outputId": "dce42852-f014-41de-a0fe-d9e078508e0e"
      },
      "outputs": [
        {
          "data": {
            "text/plain": [
              "0       29.0000\n",
              "1        0.9167\n",
              "2        2.0000\n",
              "3       30.0000\n",
              "4       25.0000\n",
              "         ...   \n",
              "1301    45.5000\n",
              "1304    14.5000\n",
              "1306    26.5000\n",
              "1307    27.0000\n",
              "1308    29.0000\n",
              "Name: age, Length: 1046, dtype: float64"
            ]
          },
          "execution_count": 30,
          "metadata": {},
          "output_type": "execute_result"
        }
      ],
      "source": [
        "Xy.age.dropna()"
      ]
    },
    {
      "cell_type": "code",
      "execution_count": 31,
      "metadata": {
        "colab": {
          "base_uri": "https://localhost:8080/"
        },
        "id": "Gt7436NmkbUV",
        "outputId": "43ed089d-a591-4aab-ee15-1d72ee74477a"
      },
      "outputs": [
        {
          "data": {
            "text/plain": [
              "0       29.0000\n",
              "1        0.9167\n",
              "5       48.0000\n",
              "6       63.0000\n",
              "8       53.0000\n",
              "         ...   \n",
              "1261    63.0000\n",
              "1277    22.0000\n",
              "1286    38.0000\n",
              "1290    47.0000\n",
              "1300    15.0000\n",
              "Name: age, Length: 427, dtype: float64"
            ]
          },
          "execution_count": 31,
          "metadata": {},
          "output_type": "execute_result"
        }
      ],
      "source": [
        "Xy[\"age\"][Xy.survived == 1].dropna()"
      ]
    },
    {
      "cell_type": "code",
      "execution_count": 32,
      "metadata": {
        "colab": {
          "base_uri": "https://localhost:8080/",
          "height": 419
        },
        "id": "V6v0_gPMkwSD",
        "outputId": "c3b2ec31-6f5c-4bca-cfa3-a6806b66d092"
      },
      "outputs": [
        {
          "data": {
            "image/png": "[encoded data removed]",
            "text/plain": [
              "<Figure size 800x400 with 1 Axes>"
            ]
          },
          "metadata": {},
          "output_type": "display_data"
        }
      ],
      "source": [
        "fig, ax = plt.subplots()\n",
        "ax.hist(Xy.age.dropna(), label = \"Total\")\n",
        "ax.hist(Xy[\"age\"][Xy.survived == 1].dropna(), label = \"Survived\")\n",
        "\n",
        "plt.xlabel(\"Age\")\n",
        "plt.ylabel(\"Survival\")\n",
        "plt.title(\"Survival by Age\")\n",
        "\n",
        "plt.legend()\n",
        "plt.show()"
      ]
    },
    {
      "cell_type": "markdown",
      "metadata": {
        "id": "UWC6XSYmlixa"
      },
      "source": [
        "20 ~ 30대의 생존자 수가 가장 높다."
      ]
    },
    {
      "cell_type": "markdown",
      "metadata": {
        "id": "riSjL4pRmlp3"
      },
      "source": [
        "- 10살 단위 구간으로 연령별 생존자 구하기"
      ]
    },
    {
      "cell_type": "code",
      "execution_count": 33,
      "metadata": {
        "colab": {
          "base_uri": "https://localhost:8080/",
          "height": 457
        },
        "id": "Ld4F1IIKmuXn",
        "outputId": "ee5dd78e-06a2-438b-fa5d-378acb7c5f54"
      },
      "outputs": [
        {
          "data": {
            "image/png": "[encoded data removed]",
            "text/plain": [
              "<Figure size 800x400 with 1 Axes>"
            ]
          },
          "metadata": {},
          "output_type": "display_data"
        }
      ],
      "source": [
        "Xy[\"AgeGroup\"] = pd.cut(Xy[\"age\"], bins = range(0, 100, 10), right = False)\n",
        "age_group_survival = Xy.groupby(\"AgeGroup\")[\"survived\"].mean()\n",
        "\n",
        "age_group_survival.plot(kind = \"bar\", color = \"skyblue\")\n",
        "plt.xlabel(\"Age group\")\n",
        "plt.ylabel(\"Survivial Rate\")\n",
        "plt.title(\"Survival Ratel by Age Group on Titanic\")\n",
        "\n",
        "plt.xticks(rotation = 45)\n",
        "plt.show()"
      ]
    },
    {
      "cell_type": "markdown",
      "metadata": {
        "id": "j5BCxXwtnyG9"
      },
      "source": [
        "노인과 아이 위주로 생존률이 가장 높았다."
      ]
    },
    {
      "cell_type": "markdown",
      "metadata": {
        "id": "9Ix2EgFcln1J"
      },
      "source": [
        "- Pclass 별 생존자 수 분석"
      ]
    },
    {
      "cell_type": "code",
      "execution_count": 34,
      "metadata": {
        "colab": {
          "base_uri": "https://localhost:8080/",
          "height": 419
        },
        "id": "kPhVS2RtlnVo",
        "outputId": "02dd8a23-1195-4e14-84d5-67e617ff846c"
      },
      "outputs": [
        {
          "data": {
            "image/png": "[encoded data removed]",
            "text/plain": [
              "<Figure size 800x400 with 1 Axes>"
            ]
          },
          "metadata": {},
          "output_type": "display_data"
        }
      ],
      "source": [
        "sns.countplot(x = \"pclass\", data = Xy)\n",
        "plt.title(\"Unique survivors by pclass\")\n",
        "plt.show()"
      ]
    },
    {
      "cell_type": "code",
      "execution_count": 35,
      "metadata": {
        "colab": {
          "base_uri": "https://localhost:8080/",
          "height": 419
        },
        "id": "LYribJWlmBbE",
        "outputId": "0712a37b-42ac-403b-a94c-6770f4e6ac31"
      },
      "outputs": [
        {
          "data": {
            "image/png": "[encoded data removed]",
            "text/plain": [
              "<Figure size 800x400 with 1 Axes>"
            ]
          },
          "metadata": {},
          "output_type": "display_data"
        }
      ],
      "source": [
        "sns.barplot(x = \"pclass\", y = \"survived\", data = Xy)\n",
        "plt.title(\"Persent survivaors by class\")\n",
        "plt.show()"
      ]
    },
    {
      "cell_type": "markdown",
      "metadata": {
        "id": "TD7Dhpw2mCfu"
      },
      "source": [
        "3등석이 가장 많이 살아남았다."
      ]
    },
    {
      "cell_type": "markdown",
      "metadata": {
        "id": "6saQFFTgmcJ0"
      },
      "source": [
        "하지만 pclass 각 클랙스 별 탑승객 대비 생존자 비율은 1등석이 가장 높게 분석되었다."
      ]
    },
    {
      "cell_type": "markdown",
      "metadata": {
        "id": "ua-mfvJun3IB"
      },
      "source": [
        "## 6. 분석 결과"
      ]
    },
    {
      "cell_type": "markdown",
      "metadata": {
        "id": "HM2lZhn9n72t"
      },
      "source": [
        "#### 생존률 관련 분석 결과\n",
        "\n",
        "- 탑승객 대비 생존자 분석\n",
        "  - 탑승객 약 1300명 중 사망자 약 800명 중 생존자 약 500으로 추정\n",
        "\n",
        "- 성별 생존자 분석\n",
        "  - 남성 생존자 대비 여성 생존자 수가 약 3.5배 더 많이 나타났다.\n",
        "\n",
        "- 연렵 별 생존자 분석\n",
        "  - 20~30대 탑승객 및 생존 수가 가장 높게 나타났다.\n",
        "  - 하지만 생존 비율 분석 결과 80~90대에서 가장 높은 생존률을 보였다.\n",
        "\n",
        "- 객실 별 생존자 분석\n",
        "  - 총 승객 수는 3등석이 가장 높았으나 생존 비율은 1등석 고객이 가장 큰 비율을 보였다.\n"
      ]
    },
    {
      "cell_type": "markdown",
      "metadata": {
        "id": "CoCCCEt9oD-g"
      },
      "source": [
        "- 위 분석 결과, 변수 간의 상관관계는 유의미한 수치를 보이지 않음\n",
        "- 하지만 배가 침몰했을 당시, 여성, 1등석 승객 노년층, 아동 위주 구출한 것으로 보인다."
      ]
    }
  ],
  "metadata": {
    "colab": {
      "authorship_tag": "ABX9TyO/c9RvmvOPJbWwknrp4HlV",
      "include_colab_link": true,
      "provenance": []
    },
    "kernelspec": {
      "display_name": "Python 3",
      "name": "python3"
    },
    "language_info": {
      "codemirror_mode": {
        "name": "ipython",
        "version": 3
      },
      "file_extension": ".py",
      "mimetype": "text/x-python",
      "name": "python",
      "nbconvert_exporter": "python",
      "pygments_lexer": "ipython3",
      "version": "3.11.5"
    }
  },
  "nbformat": 4,
  "nbformat_minor": 0
}
