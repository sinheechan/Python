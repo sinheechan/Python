{
  "cells": [
    {
      "cell_type": "markdown",
      "metadata": {
        "id": "unFO3EPlDuXE"
      },
      "source": [
        "# (실습) 넘파이 어레이"
      ]
    },
    {
      "cell_type": "markdown",
      "metadata": {
        "id": "EFSKaQvhDuXH"
      },
      "source": [
        "**주의사항**\n",
        "\n",
        "- `None`은 적절한 표현식으로 대체한다.\n",
        "- `Pass`는 적절한 명령문으로 대체한다."
      ]
    },
    {
      "cell_type": "markdown",
      "metadata": {
        "id": "Pkw7tA9DDuXI"
      },
      "source": [
        "## numpy 모듈"
      ]
    },
    {
      "cell_type": "markdown",
      "metadata": {
        "id": "cO2xEMg5DuXI"
      },
      "source": [
        "**문제 1**"
      ]
    },
    {
      "cell_type": "markdown",
      "metadata": {
        "id": "1Rk3MCirx-gA"
      },
      "source": [
        "아래 코드를 설명하라."
      ]
    },
    {
      "cell_type": "code",
      "execution_count": 1,
      "metadata": {
        "id": "J71Fcvihxzi9"
      },
      "outputs": [],
      "source": [
        "import numpy as np"
      ]
    },
    {
      "cell_type": "markdown",
      "metadata": {
        "id": "GMz1WoUhDuXK"
      },
      "source": [
        "`코드설명`:"
      ]
    },
    {
      "cell_type": "markdown",
      "metadata": {
        "id": "isu3KqumDuXK"
      },
      "source": [
        "아래 코드는 수정하지 마세요!!!"
      ]
    },
    {
      "cell_type": "code",
      "execution_count": 2,
      "metadata": {
        "colab": {
          "base_uri": "https://localhost:8080/",
          "height": 35
        },
        "id": "pXMIfvi9yHG5",
        "outputId": "22ac7699-7e31-4340-bf5b-f8456c34eea6"
      },
      "outputs": [
        {
          "output_type": "execute_result",
          "data": {
            "text/plain": [
              "'1.23.5'"
            ],
            "application/vnd.google.colaboratory.intrinsic+json": {
              "type": "string"
            }
          },
          "metadata": {},
          "execution_count": 2
        }
      ],
      "source": [
        "np.__version__"
      ]
    },
    {
      "cell_type": "markdown",
      "metadata": {
        "id": "S8dZGJO7DuXK"
      },
      "source": [
        "**문제 2**"
      ]
    },
    {
      "cell_type": "markdown",
      "metadata": {
        "id": "4olXV8h2DuXL"
      },
      "source": [
        "아래 코드의 기능을 설명하라"
      ]
    },
    {
      "cell_type": "code",
      "execution_count": 3,
      "metadata": {
        "id": "opOkODdpDuXL"
      },
      "outputs": [],
      "source": [
        "np.random.seed(42)"
      ]
    },
    {
      "cell_type": "markdown",
      "metadata": {
        "id": "o7n5k8GgDuXL"
      },
      "source": [
        "`코드설명`: 코드가 42인 난수 생성"
      ]
    },
    {
      "cell_type": "markdown",
      "metadata": {
        "id": "fcysJYdmDuXL"
      },
      "source": [
        "**문제 3**"
      ]
    },
    {
      "cell_type": "markdown",
      "metadata": {
        "id": "OWTYSXk6DuXL"
      },
      "source": [
        "부동소수점으로 구성된 어레이의 항목은 기본적으로 소수점 이하 8자리까지 출력한다."
      ]
    },
    {
      "cell_type": "code",
      "execution_count": 4,
      "metadata": {
        "id": "HVc1VmPKDuXL",
        "outputId": "27b9ef2a-10c4-41b4-bfde-ef142a91c10c",
        "colab": {
          "base_uri": "https://localhost:8080/"
        }
      },
      "outputs": [
        {
          "output_type": "execute_result",
          "data": {
            "text/plain": [
              "array([[0.37454012, 0.95071431, 0.73199394, ..., 0.09767211, 0.68423303,\n",
              "        0.44015249],\n",
              "       [0.12203823, 0.49517691, 0.03438852, ..., 0.07404465, 0.35846573,\n",
              "        0.11586906],\n",
              "       [0.86310343, 0.62329813, 0.33089802, ..., 0.18657006, 0.892559  ,\n",
              "        0.53934224],\n",
              "       ...,\n",
              "       [0.81783422, 0.12020906, 0.5444891 , ..., 0.89803055, 0.2434823 ,\n",
              "        0.92703454],\n",
              "       [0.06026739, 0.93443603, 0.35162269, ..., 0.41102847, 0.8398613 ,\n",
              "        0.90002312],\n",
              "       [0.35342138, 0.23687056, 0.78052552, ..., 0.07941937, 0.08565825,\n",
              "        0.89419087]])"
            ]
          },
          "metadata": {},
          "execution_count": 4
        }
      ],
      "source": [
        "Z = np.random.random((40,40))\n",
        "Z"
      ]
    },
    {
      "cell_type": "markdown",
      "metadata": {
        "id": "9SK0kfeQDuXL"
      },
      "source": [
        "`np.set_printoptions()` 의 기능을 다음 두 개의 예를 이용하여 설명하라."
      ]
    },
    {
      "cell_type": "code",
      "execution_count": 5,
      "metadata": {
        "id": "OP-OD-5GDuXL"
      },
      "outputs": [],
      "source": [
        "np.set_printoptions(precision=4)"
      ]
    },
    {
      "cell_type": "code",
      "execution_count": 6,
      "metadata": {
        "id": "p5XFnwifDuXL",
        "outputId": "b0b3ec6d-d665-47ad-df75-eff52894961d",
        "colab": {
          "base_uri": "https://localhost:8080/"
        }
      },
      "outputs": [
        {
          "output_type": "execute_result",
          "data": {
            "text/plain": [
              "array([[0.3745, 0.9507, 0.732 , ..., 0.0977, 0.6842, 0.4402],\n",
              "       [0.122 , 0.4952, 0.0344, ..., 0.074 , 0.3585, 0.1159],\n",
              "       [0.8631, 0.6233, 0.3309, ..., 0.1866, 0.8926, 0.5393],\n",
              "       ...,\n",
              "       [0.8178, 0.1202, 0.5445, ..., 0.898 , 0.2435, 0.927 ],\n",
              "       [0.0603, 0.9344, 0.3516, ..., 0.411 , 0.8399, 0.9   ],\n",
              "       [0.3534, 0.2369, 0.7805, ..., 0.0794, 0.0857, 0.8942]])"
            ]
          },
          "metadata": {},
          "execution_count": 6
        }
      ],
      "source": [
        "Z"
      ]
    },
    {
      "cell_type": "code",
      "execution_count": 7,
      "metadata": {
        "id": "4NQ0rnUIDuXM"
      },
      "outputs": [],
      "source": [
        "np.set_printoptions(precision=6)"
      ]
    },
    {
      "cell_type": "code",
      "execution_count": 8,
      "metadata": {
        "id": "Xd1htKjKDuXM",
        "outputId": "1bcfb9b0-b476-463d-bcae-51e541ea1146",
        "colab": {
          "base_uri": "https://localhost:8080/"
        }
      },
      "outputs": [
        {
          "output_type": "execute_result",
          "data": {
            "text/plain": [
              "array([[0.37454 , 0.950714, 0.731994, ..., 0.097672, 0.684233, 0.440152],\n",
              "       [0.122038, 0.495177, 0.034389, ..., 0.074045, 0.358466, 0.115869],\n",
              "       [0.863103, 0.623298, 0.330898, ..., 0.18657 , 0.892559, 0.539342],\n",
              "       ...,\n",
              "       [0.817834, 0.120209, 0.544489, ..., 0.898031, 0.243482, 0.927035],\n",
              "       [0.060267, 0.934436, 0.351623, ..., 0.411028, 0.839861, 0.900023],\n",
              "       [0.353421, 0.236871, 0.780526, ..., 0.079419, 0.085658, 0.894191]])"
            ]
          },
          "metadata": {},
          "execution_count": 8
        }
      ],
      "source": [
        "Z"
      ]
    },
    {
      "cell_type": "markdown",
      "metadata": {
        "id": "uZHSB10rDuXM"
      },
      "source": [
        "`코드설명`:"
      ]
    },
    {
      "cell_type": "markdown",
      "metadata": {
        "id": "mZ5lNYh7DuXM"
      },
      "source": [
        "아래 코드는 기본 옵션값으로 되돌린다. 수정하지 마세요."
      ]
    },
    {
      "cell_type": "code",
      "execution_count": null,
      "metadata": {
        "id": "5x6HgBdADuXM"
      },
      "outputs": [],
      "source": [
        "np.set_printoptions(precision=8)"
      ]
    },
    {
      "cell_type": "markdown",
      "metadata": {
        "id": "bbkDovMfDuXM"
      },
      "source": [
        "## 1차원 어레이"
      ]
    },
    {
      "cell_type": "markdown",
      "metadata": {
        "id": "TcSYgaBiDuXM"
      },
      "source": [
        "**문제 1**"
      ]
    },
    {
      "cell_type": "markdown",
      "metadata": {
        "id": "D52rYqifyYtK"
      },
      "source": [
        "크기가 10이고 모든 항목이 0인 1차원 어레이를\n",
        "변수 `Z`가 가리키도록 하라.\n",
        "단, `np.zeros()` 함수를 반드시 이용한다."
      ]
    },
    {
      "cell_type": "code",
      "execution_count": null,
      "metadata": {
        "colab": {
          "base_uri": "https://localhost:8080/"
        },
        "id": "9a2qagIByT5-",
        "outputId": "47fa6fd5-c22f-42aa-fe06-964d1c077ed0"
      },
      "outputs": [
        {
          "output_type": "execute_result",
          "data": {
            "text/plain": [
              "array([0., 0., 0., 0., 0., 0., 0., 0., 0., 0.])"
            ]
          },
          "metadata": {},
          "execution_count": 15
        }
      ],
      "source": [
        "# None을 적절한 표현식으로 대체하라.\n",
        "Z = np.zeros(10)\n",
        "\n",
        "Z"
      ]
    },
    {
      "cell_type": "markdown",
      "metadata": {
        "id": "pTbnCXkNDuXM"
      },
      "source": [
        "아래 코드는 수정하지 마세요!!!"
      ]
    },
    {
      "cell_type": "code",
      "execution_count": null,
      "metadata": {
        "id": "zWRYR-gLDuXM"
      },
      "outputs": [],
      "source": [
        "assert (Z == np.array([0., 0., 0., 0., 0., 0., 0., 0., 0., 0.])).all()"
      ]
    },
    {
      "cell_type": "markdown",
      "metadata": {
        "id": "m5V9m2enDuXM"
      },
      "source": [
        "**문제 2**"
      ]
    },
    {
      "cell_type": "markdown",
      "metadata": {
        "id": "Bly_H3ozyaSd"
      },
      "source": [
        "변수 `Z`가 10에서 49까지의 정수 중에서 짝수로만 구성된 1차원 어레이를 가리키도록 하라.\n",
        "단, `np.arange()` 함수를 반드시 이용한다."
      ]
    },
    {
      "cell_type": "code",
      "execution_count": 11,
      "metadata": {
        "colab": {
          "base_uri": "https://localhost:8080/"
        },
        "id": "0VkfsWyPKvcE",
        "outputId": "46f539db-5cbf-4f02-fada-77bc962c2ab8"
      },
      "outputs": [
        {
          "output_type": "execute_result",
          "data": {
            "text/plain": [
              "array([10, 12, 14, 16, 18, 20, 22, 24, 26, 28, 30, 32, 34, 36, 38, 40, 42,\n",
              "       44, 46, 48])"
            ]
          },
          "metadata": {},
          "execution_count": 11
        }
      ],
      "source": [
        "# None을 적절한 표현식으로 대체하라.\n",
        "Z = np.arange(10, 50, 2)\n",
        "\n",
        "Z"
      ]
    },
    {
      "cell_type": "markdown",
      "metadata": {
        "id": "3lcLTYoNDuXM"
      },
      "source": [
        "아래 코드는 수정하지 마세요!!!"
      ]
    },
    {
      "cell_type": "code",
      "execution_count": 12,
      "metadata": {
        "id": "Esxol-XFDuXM"
      },
      "outputs": [],
      "source": [
        "assert (Z == np.array([10, 12, 14, 16, 18, 20, 22, 24, 26, 28, 30, 32, 34, 36, 38, 40, 42,\n",
        "                        44, 46, 48])).all()"
      ]
    },
    {
      "cell_type": "markdown",
      "metadata": {
        "id": "XlwMCc1aDuXN"
      },
      "source": [
        "**문제 3**"
      ]
    },
    {
      "cell_type": "markdown",
      "metadata": {
        "id": "XQvzj2hWDuXN"
      },
      "source": [
        "변수 `Z`가 아래와 같이 선언되었다."
      ]
    },
    {
      "cell_type": "code",
      "execution_count": 13,
      "metadata": {
        "id": "N1o5t6_hDuXN",
        "outputId": "87f27cec-5c70-44a0-8578-15a364c909db",
        "colab": {
          "base_uri": "https://localhost:8080/"
        }
      },
      "outputs": [
        {
          "output_type": "execute_result",
          "data": {
            "text/plain": [
              "array([2, 3, 1, 0, 4])"
            ]
          },
          "metadata": {},
          "execution_count": 13
        }
      ],
      "source": [
        "Z = np.array([2, 3, 1, 0, 4])\n",
        "Z"
      ]
    },
    {
      "cell_type": "markdown",
      "metadata": {
        "id": "kr6_x68cDuXN"
      },
      "source": [
        "변수 `Z`의 항목을 정렬하라.\n",
        "단, sort() 메서드를 활용한다."
      ]
    },
    {
      "cell_type": "code",
      "execution_count": 14,
      "metadata": {
        "id": "8jleddm8DuXT",
        "outputId": "16de6cd4-d44e-4c83-b74e-d87700e661a5",
        "colab": {
          "base_uri": "https://localhost:8080/"
        }
      },
      "outputs": [
        {
          "output_type": "execute_result",
          "data": {
            "text/plain": [
              "array([0, 1, 2, 3, 4])"
            ]
          },
          "metadata": {},
          "execution_count": 14
        }
      ],
      "source": [
        "# None을 적절한 표현식으로 대체하라.\n",
        "Z.sort()\n",
        "\n",
        "Z"
      ]
    },
    {
      "cell_type": "markdown",
      "metadata": {
        "id": "aFuVqMITDuXU"
      },
      "source": [
        "아래 코드는 수정하지 마세요!!!"
      ]
    },
    {
      "cell_type": "code",
      "execution_count": 15,
      "metadata": {
        "id": "qrRZlL0zDuXU"
      },
      "outputs": [],
      "source": [
        "assert (Z == np.arange(5)).all()"
      ]
    },
    {
      "cell_type": "markdown",
      "metadata": {
        "id": "rkY7Bo_XDuXU"
      },
      "source": [
        "**문제 4**"
      ]
    },
    {
      "cell_type": "markdown",
      "metadata": {
        "id": "Z-C4o0QJDuXU"
      },
      "source": [
        "변수 `Z`가 크기 30이며 무작위로 생성된 1차원 어레이를 가리키도록 하라.\n",
        "또한 포함된 항목들의 평균값을 계산하라.\n",
        "단, 어레이의 항목은 0과 1 사이의 임의의 부동소수점으로 구성되어야 한다.\n",
        "`np.random.random()` 함수, `mean()` 어레이 메서드를 반드시 이용한다."
      ]
    },
    {
      "cell_type": "code",
      "execution_count": 16,
      "metadata": {
        "id": "Rtofug4VDuXU",
        "outputId": "99d02024-f014-4d8b-b595-b7a7c0b07bfc",
        "colab": {
          "base_uri": "https://localhost:8080/"
        }
      },
      "outputs": [
        {
          "output_type": "execute_result",
          "data": {
            "text/plain": [
              "0.4618868095723934"
            ]
          },
          "metadata": {},
          "execution_count": 16
        }
      ],
      "source": [
        "# None을 적절한 표현식으로 대체하라.\n",
        "Z = np.random.random(30)\n",
        "Z_mean = Z.mean()\n",
        "\n",
        "Z_mean"
      ]
    },
    {
      "cell_type": "markdown",
      "metadata": {
        "id": "DfzvS_NEDuXU"
      },
      "source": [
        "아래 코드는 수정하지 마세요!!!"
      ]
    },
    {
      "cell_type": "code",
      "execution_count": 17,
      "metadata": {
        "id": "q93D6YFKDuXU",
        "outputId": "c58ae831-0142-4304-cac8-75d831439c86",
        "colab": {
          "base_uri": "https://localhost:8080/"
        }
      },
      "outputs": [
        {
          "output_type": "stream",
          "name": "stdout",
          "text": [
            "1차원 어레이 평균값: 0.4618868095723934\n"
          ]
        }
      ],
      "source": [
        "assert (Z.shape == (30,))\n",
        "print(f\"1차원 어레이 평균값: {Z_mean}\")"
      ]
    },
    {
      "cell_type": "markdown",
      "metadata": {
        "id": "fxrajgo_DuXU"
      },
      "source": [
        "**문제 5**"
      ]
    },
    {
      "cell_type": "markdown",
      "metadata": {
        "id": "pocSZJSY-y56"
      },
      "source": [
        "1차원 어레이가 다음과 같이 주어졌다."
      ]
    },
    {
      "cell_type": "code",
      "execution_count": 18,
      "metadata": {
        "id": "CGCDK3NODuXU",
        "outputId": "74dc946d-979a-4e9b-c472-6ac04706336a",
        "colab": {
          "base_uri": "https://localhost:8080/"
        }
      },
      "outputs": [
        {
          "output_type": "execute_result",
          "data": {
            "text/plain": [
              "array([1, 2, 3])"
            ]
          },
          "metadata": {},
          "execution_count": 18
        }
      ],
      "source": [
        "Z = np.arange(1, 4)\n",
        "\n",
        "Z"
      ]
    },
    {
      "cell_type": "markdown",
      "metadata": {
        "id": "W9tAfWC-DuXU"
      },
      "source": [
        "(1) 아래 표현식의 계산 결과를 설명하라."
      ]
    },
    {
      "cell_type": "code",
      "execution_count": 19,
      "metadata": {
        "id": "ZMAOCK-mZVbd",
        "outputId": "7bc32816-5fc4-47dd-fe3a-d0011a9c33b6",
        "colab": {
          "base_uri": "https://localhost:8080/"
        }
      },
      "outputs": [
        {
          "output_type": "execute_result",
          "data": {
            "text/plain": [
              "array([1, 4, 9])"
            ]
          },
          "metadata": {},
          "execution_count": 19
        }
      ],
      "source": [
        "Z*Z"
      ]
    },
    {
      "cell_type": "markdown",
      "metadata": {
        "id": "ND4fwkjWDuXU"
      },
      "source": [
        "`코드설명`: Z의 0값에 위치한 수의 곱, Z의 1값에 위치한 수의 곱, Z의 2값에 위치한 수의 곱"
      ]
    },
    {
      "cell_type": "markdown",
      "metadata": {
        "id": "eb0Kg__yDuXU"
      },
      "source": [
        "(2) 아래 표현식의 계산 결과를 설명하라."
      ]
    },
    {
      "cell_type": "code",
      "execution_count": 20,
      "metadata": {
        "id": "G23VpwFODuXU",
        "outputId": "4ff57a97-94c6-43b6-ff04-1ea49f15f384",
        "colab": {
          "base_uri": "https://localhost:8080/"
        }
      },
      "outputs": [
        {
          "output_type": "execute_result",
          "data": {
            "text/plain": [
              "array([ 1,  4, 27])"
            ]
          },
          "metadata": {},
          "execution_count": 20
        }
      ],
      "source": [
        "Z**Z"
      ]
    },
    {
      "cell_type": "markdown",
      "metadata": {
        "id": "wWQydT2iDuXU"
      },
      "source": [
        "`코드설명`: Z의 0값에 위치한 수의 제곱근, Z의 1값에 위치한 수의 제곱근, Z의 2값에 위치한 수의 제곱근"
      ]
    },
    {
      "cell_type": "markdown",
      "metadata": {
        "id": "xiSW-kb5DuXV"
      },
      "source": [
        "(3) 아래 표현식의 계산 결과를 설명하라."
      ]
    },
    {
      "cell_type": "code",
      "execution_count": 21,
      "metadata": {
        "colab": {
          "base_uri": "https://localhost:8080/"
        },
        "id": "CJfJkqQ8ZhZI",
        "outputId": "b65d1734-4244-4157-8db8-a611a4c3f49d"
      },
      "outputs": [
        {
          "output_type": "execute_result",
          "data": {
            "text/plain": [
              "array([False, False, False])"
            ]
          },
          "metadata": {},
          "execution_count": 21
        }
      ],
      "source": [
        "Z < -Z"
      ]
    },
    {
      "cell_type": "markdown",
      "metadata": {
        "id": "h53j5siiDuXV"
      },
      "source": [
        "`코드설명`: 요소 별로 크기 비교 Z = 1,2,3 이며 -Z = -1,-2,-3"
      ]
    },
    {
      "cell_type": "markdown",
      "metadata": {
        "id": "yhvTGApjDuXV"
      },
      "source": [
        "(4) 아래 표현식의 계산 결과를 설명하라."
      ]
    },
    {
      "cell_type": "code",
      "execution_count": 22,
      "metadata": {
        "colab": {
          "base_uri": "https://localhost:8080/"
        },
        "id": "wYc9wQ29ZoHt",
        "outputId": "0642aa59-8b62-4678-f620-774a5afbc659"
      },
      "outputs": [
        {
          "output_type": "execute_result",
          "data": {
            "text/plain": [
              "array([1., 2., 3.])"
            ]
          },
          "metadata": {},
          "execution_count": 22
        }
      ],
      "source": [
        "Z/1/1"
      ]
    },
    {
      "cell_type": "markdown",
      "metadata": {
        "id": "7bkJirqHDuXV"
      },
      "source": [
        "`코드설명`: Z에 속해있는 요소 각각 1로 2번 나누기"
      ]
    },
    {
      "cell_type": "markdown",
      "metadata": {
        "id": "7UwNzt6jDuXV"
      },
      "source": [
        "**문제 6**"
      ]
    },
    {
      "cell_type": "markdown",
      "metadata": {
        "id": "olg9yEBIDuXV"
      },
      "source": [
        "변수 `Z`가 아래 모양의 어레이를 가리키도록 하라.\n",
        "단, `np.linspace()` 함수와 `endpoint` 키워드 인자를 이용한다.\n",
        "\n",
        "```\n",
        "[0. , 0.1, 0.2, 0.3, 0.4, 0.5, 0.6, 0.7, 0.8, 0.9]\n",
        "```"
      ]
    },
    {
      "cell_type": "code",
      "execution_count": 23,
      "metadata": {
        "id": "1-LjeC8sDuXV",
        "outputId": "7e2f01be-69b9-4560-8209-2a73ce2bb4c0",
        "colab": {
          "base_uri": "https://localhost:8080/"
        }
      },
      "outputs": [
        {
          "output_type": "execute_result",
          "data": {
            "text/plain": [
              "array([0. , 0.1, 0.2, 0.3, 0.4, 0.5, 0.6, 0.7, 0.8, 0.9])"
            ]
          },
          "metadata": {},
          "execution_count": 23
        }
      ],
      "source": [
        "# None을 적절한 표현식으로 대체하라.\n",
        "Z = np.linspace(0,0.9,num = 10, endpoint = True)\n",
        "\n",
        "Z"
      ]
    },
    {
      "cell_type": "markdown",
      "metadata": {
        "id": "Bvc43fcXDuXV"
      },
      "source": [
        "아래 코드는 수정하지 마세요!!!"
      ]
    },
    {
      "cell_type": "code",
      "execution_count": 24,
      "metadata": {
        "id": "j2jLUmyaDuXV"
      },
      "outputs": [],
      "source": [
        "assert np.isclose(Z, np.array([0. , 0.1, 0.2, 0.3, 0.4, 0.5, 0.6, 0.7, 0.8, 0.9])).all()"
      ]
    },
    {
      "cell_type": "markdown",
      "metadata": {
        "id": "lgUuKXvkDuXV"
      },
      "source": [
        "**문제 7**"
      ]
    },
    {
      "cell_type": "markdown",
      "metadata": {
        "lines_to_next_cell": 0,
        "id": "edUIXFJdDuXV"
      },
      "source": [
        "아래 코드의 실행결과를 설명하라."
      ]
    },
    {
      "cell_type": "code",
      "execution_count": 25,
      "metadata": {
        "id": "Tdr2hTwnDuXV",
        "outputId": "104bbc2b-bd29-44fd-e4ae-854d75d58e79",
        "colab": {
          "base_uri": "https://localhost:8080/"
        }
      },
      "outputs": [
        {
          "output_type": "stream",
          "name": "stdout",
          "text": [
            "800 bytes\n"
          ]
        }
      ],
      "source": [
        "Z = np.zeros((10,10))\n",
        "print(\"%d bytes\" % (Z.size * Z.itemsize))"
      ]
    },
    {
      "cell_type": "markdown",
      "metadata": {
        "id": "EHklpmL1DuXV"
      },
      "source": [
        "`코드설명`: 값 하나당 8바이트, 10x10 행렬이므로 800바이트"
      ]
    },
    {
      "cell_type": "markdown",
      "metadata": {
        "id": "X1ANbPnxDuXV"
      },
      "source": [
        "**문제 8**"
      ]
    },
    {
      "cell_type": "markdown",
      "metadata": {
        "id": "w2ZJMCjqDuXV"
      },
      "source": [
        "다음 리스트에서 0이 아닌 항목들의 인덱스로 구성된 어레이를 한줄 코드로 생성하라.\n",
        "단. `np.nonzero()` 함수를 활용한다."
      ]
    },
    {
      "cell_type": "code",
      "execution_count": 26,
      "metadata": {
        "id": "i4a8txDlDuXW"
      },
      "outputs": [],
      "source": [
        "Z = [1, 2, 0, 0, 4, 0]"
      ]
    },
    {
      "cell_type": "code",
      "execution_count": 27,
      "metadata": {
        "id": "CIzYEmKuDuXW",
        "outputId": "a924e86c-6a6c-4df3-dbce-7e7067ad9ad4",
        "colab": {
          "base_uri": "https://localhost:8080/"
        }
      },
      "outputs": [
        {
          "output_type": "execute_result",
          "data": {
            "text/plain": [
              "(array([0, 1, 4]),)"
            ]
          },
          "metadata": {},
          "execution_count": 27
        }
      ],
      "source": [
        "# None을 적절한 표현식으로 대체하라.\n",
        "\n",
        "non_zeros = np.nonzero(Z)\n",
        "\n",
        "non_zeros"
      ]
    },
    {
      "cell_type": "markdown",
      "metadata": {
        "id": "wb_9KglfDuXW"
      },
      "source": [
        "아래 코드는 수정하지 마세요!!!"
      ]
    },
    {
      "cell_type": "code",
      "execution_count": null,
      "metadata": {
        "id": "gvF8WiQwDuXW"
      },
      "outputs": [],
      "source": [
        "assert (non_zeros == np.array([0, 1, 4])).all()"
      ]
    },
    {
      "cell_type": "markdown",
      "metadata": {
        "id": "w7HDTyHlDuXW"
      },
      "source": [
        "**문제 9**"
      ]
    },
    {
      "cell_type": "markdown",
      "metadata": {
        "id": "h2kfUSCiDuXW"
      },
      "source": [
        "두 개의 1차원 어레이가 다음과 같이 주어졌다."
      ]
    },
    {
      "cell_type": "code",
      "execution_count": null,
      "metadata": {
        "id": "2gmHWdXYDuXW",
        "outputId": "279ba22b-9986-4c6f-dcbe-2a0e7e186df1",
        "colab": {
          "base_uri": "https://localhost:8080/"
        }
      },
      "outputs": [
        {
          "output_type": "execute_result",
          "data": {
            "text/plain": [
              "array([2., 2., 2.])"
            ]
          },
          "metadata": {},
          "execution_count": 50
        }
      ],
      "source": [
        "A = np.ones(3)*1\n",
        "B = np.ones(3)*2\n",
        "\n",
        "B"
      ]
    },
    {
      "cell_type": "markdown",
      "metadata": {
        "id": "LDEfYPzQDuXW"
      },
      "source": [
        "아래 코드의 실행 결과를 설명하라."
      ]
    },
    {
      "cell_type": "code",
      "execution_count": null,
      "metadata": {
        "id": "KqE3PoHJDuXW",
        "outputId": "acfc9880-2cd8-49f7-eabc-3485475c2afb",
        "colab": {
          "base_uri": "https://localhost:8080/"
        }
      },
      "outputs": [
        {
          "output_type": "execute_result",
          "data": {
            "text/plain": [
              "array([-1.5, -1.5, -1.5])"
            ]
          },
          "metadata": {},
          "execution_count": 47
        }
      ],
      "source": [
        "(A+B)*(-A/2)"
      ]
    },
    {
      "cell_type": "markdown",
      "metadata": {
        "id": "3ufrulnsDuXW"
      },
      "source": [
        "`코드설명`: {(1,1,1) + (2,2,2)} * (-0.5, -0.5, -0.5)"
      ]
    },
    {
      "cell_type": "code",
      "execution_count": null,
      "metadata": {
        "id": "uZwuISocDuXW",
        "outputId": "bedf0fa4-6e44-4f4e-d020-dfa641e2e823",
        "colab": {
          "base_uri": "https://localhost:8080/"
        }
      },
      "outputs": [
        {
          "output_type": "execute_result",
          "data": {
            "text/plain": [
              "array([3., 3., 3.])"
            ]
          },
          "metadata": {},
          "execution_count": 51
        }
      ],
      "source": [
        "np.add(A,B,out=B)"
      ]
    },
    {
      "cell_type": "markdown",
      "metadata": {
        "id": "i5pgl8UGDuXW"
      },
      "source": [
        "`코드설명`: A + B의 값이 기존 B 값을 덮어씌운다"
      ]
    },
    {
      "cell_type": "code",
      "execution_count": null,
      "metadata": {
        "id": "2Db5CwRlDuXW",
        "outputId": "e9d2ce29-e98c-4017-b21a-4811b335aa69",
        "colab": {
          "base_uri": "https://localhost:8080/"
        }
      },
      "outputs": [
        {
          "output_type": "execute_result",
          "data": {
            "text/plain": [
              "array([0.5, 0.5, 0.5])"
            ]
          },
          "metadata": {},
          "execution_count": 52
        }
      ],
      "source": [
        "np.divide(A,2,out=A)"
      ]
    },
    {
      "cell_type": "markdown",
      "metadata": {
        "id": "xhW0BP49DuXW"
      },
      "source": [
        "`코드설명`: A / 2 의 값이 기존 A 값을 덮어씌운다"
      ]
    },
    {
      "cell_type": "code",
      "execution_count": null,
      "metadata": {
        "id": "0Ro3jGYDDuXW",
        "outputId": "6e62a14c-ca53-4e78-93c8-84c074e66eaf",
        "colab": {
          "base_uri": "https://localhost:8080/"
        }
      },
      "outputs": [
        {
          "output_type": "execute_result",
          "data": {
            "text/plain": [
              "array([-0.5, -0.5, -0.5])"
            ]
          },
          "metadata": {},
          "execution_count": 53
        }
      ],
      "source": [
        "np.negative(A,out=A)"
      ]
    },
    {
      "cell_type": "markdown",
      "metadata": {
        "id": "Zo-CVXa9DuXW"
      },
      "source": [
        "`코드설명`: A 에 음수처리하여 A 값을 덮어씌운다."
      ]
    },
    {
      "cell_type": "code",
      "execution_count": null,
      "metadata": {
        "id": "EX_PGEimDuXW",
        "outputId": "fe4c7e92-5224-4fb7-8d5e-a7fd00376d48",
        "colab": {
          "base_uri": "https://localhost:8080/"
        }
      },
      "outputs": [
        {
          "output_type": "execute_result",
          "data": {
            "text/plain": [
              "array([-1.5, -1.5, -1.5])"
            ]
          },
          "metadata": {},
          "execution_count": 54
        }
      ],
      "source": [
        "np.multiply(A,B,out=A)"
      ]
    },
    {
      "cell_type": "markdown",
      "metadata": {
        "id": "aH1AHbOxDuXX"
      },
      "source": [
        "`코드설명`: (-0.5, -0.5, -0.5) * (3,3,3) 값이 기존 A 값을 덮어씌운다"
      ]
    },
    {
      "cell_type": "markdown",
      "metadata": {
        "id": "T5iQKtDwDuXX"
      },
      "source": [
        "## 2차원 어레이"
      ]
    },
    {
      "cell_type": "markdown",
      "metadata": {
        "id": "Pil_iwS8DuXX"
      },
      "source": [
        "**문제 1**"
      ]
    },
    {
      "cell_type": "markdown",
      "metadata": {
        "id": "5h39HctKDuXX"
      },
      "source": [
        "변수 `Z`가 (5, 5) 모양의 2차원 어레이를 가리키도록 하라.\n",
        "단, 어레이의 항목은 0과 1 사이의 임의의 부동소수점으로 구성되어야 한다.\n",
        "또한 `np.random.random()` 함수를 이용한다."
      ]
    },
    {
      "cell_type": "code",
      "execution_count": null,
      "metadata": {
        "id": "MUbxeaOJDuXX",
        "outputId": "865330f1-6b95-4ed8-eb63-d7771104d0de",
        "colab": {
          "base_uri": "https://localhost:8080/"
        }
      },
      "outputs": [
        {
          "output_type": "execute_result",
          "data": {
            "text/plain": [
              "array([[0.06817231, 0.02581191, 0.13516629, 0.96311511, 0.54952954],\n",
              "       [0.96582216, 0.43249788, 0.31181613, 0.50614186, 0.43951169],\n",
              "       [0.10566468, 0.64082631, 0.21603818, 0.61958795, 0.65020109],\n",
              "       [0.15202485, 0.06134963, 0.78076159, 0.45980042, 0.0581638 ],\n",
              "       [0.99486632, 0.05778056, 0.69503523, 0.98367893, 0.2391801 ]])"
            ]
          },
          "metadata": {},
          "execution_count": 57
        }
      ],
      "source": [
        "# None을 적절한 표현식으로 대체하라.\n",
        "Z = np.random.random((5,5))\n",
        "Z"
      ]
    },
    {
      "cell_type": "markdown",
      "metadata": {
        "id": "rysVWtLeDuXX"
      },
      "source": [
        "아래 코드는 수정하지 마세요!!!"
      ]
    },
    {
      "cell_type": "code",
      "execution_count": null,
      "metadata": {
        "id": "xW2368OFDuXX"
      },
      "outputs": [],
      "source": [
        "assert (Z.shape == (5, 5))\n",
        "assert (Z.dtype == np.float64)"
      ]
    },
    {
      "cell_type": "markdown",
      "metadata": {
        "id": "KPWk11RYDuXX"
      },
      "source": [
        "**문제 2**"
      ]
    },
    {
      "cell_type": "markdown",
      "metadata": {
        "id": "K3IRP0_yzg5h"
      },
      "source": [
        "변수 `Z`가 0에서 8까지의 정수로 이루어진 (3, 3) 모양의 2차원 어레이를 가리키도록 하라.\n",
        "단, `np.arange()` 함수와 `reshape()` 어레이 메서드를 반드시 이용한다."
      ]
    },
    {
      "cell_type": "code",
      "execution_count": null,
      "metadata": {
        "colab": {
          "base_uri": "https://localhost:8080/"
        },
        "id": "3TnVoMehK1vg",
        "outputId": "f54ff20d-1ea4-4d8d-af46-e0ed86bdbef9"
      },
      "outputs": [
        {
          "output_type": "execute_result",
          "data": {
            "text/plain": [
              "array([[0, 1, 2],\n",
              "       [3, 4, 5],\n",
              "       [6, 7, 8]])"
            ]
          },
          "metadata": {},
          "execution_count": 60
        }
      ],
      "source": [
        "# None을 적절한 표현식으로 대체하라.\n",
        "Z = np.arange(0,9).reshape((3, 3))\n",
        "Z"
      ]
    },
    {
      "cell_type": "markdown",
      "metadata": {
        "id": "m2SsiQ-ODuXX"
      },
      "source": [
        "아래 코드는 수정하지 마세요!!!"
      ]
    },
    {
      "cell_type": "code",
      "execution_count": null,
      "metadata": {
        "id": "HaRDBQS0DuXX"
      },
      "outputs": [],
      "source": [
        "assert (Z == np.array([[0, 1, 2],\n",
        "                       [3, 4, 5],\n",
        "                       [6, 7, 8]])).all()"
      ]
    },
    {
      "cell_type": "markdown",
      "metadata": {
        "id": "MEE_t3tXDuXX"
      },
      "source": [
        "**문제 3**"
      ]
    },
    {
      "cell_type": "markdown",
      "metadata": {
        "id": "rXQ9awEwDuXX"
      },
      "source": [
        "변수 `Z`가 (3, 3) 모양의 2차원 어레이를 가리키도록 하라.\n",
        "단, 2차원 어레이의 대각선 상은 1이고 나머지는 0이어야 한다.\n",
        "또한 `np.eye()` 함수를 반드시 이용한다."
      ]
    },
    {
      "cell_type": "code",
      "execution_count": null,
      "metadata": {
        "colab": {
          "base_uri": "https://localhost:8080/"
        },
        "id": "hF_WIcFkLDEM",
        "outputId": "a67489ae-561a-402c-bdf7-2fd5bef0a1d0"
      },
      "outputs": [
        {
          "output_type": "execute_result",
          "data": {
            "text/plain": [
              "array([[1., 0., 0.],\n",
              "       [0., 1., 0.],\n",
              "       [0., 0., 1.]])"
            ]
          },
          "metadata": {},
          "execution_count": 62
        }
      ],
      "source": [
        "# None을 적절한 표현식으로 대체하라.\n",
        "Z = np.eye(3)\n",
        "\n",
        "Z"
      ]
    },
    {
      "cell_type": "markdown",
      "metadata": {
        "id": "7mAN4RqwDuXX"
      },
      "source": [
        "아래 코드는 수정하지 마세요!!!"
      ]
    },
    {
      "cell_type": "code",
      "execution_count": null,
      "metadata": {
        "id": "LKm6xrsfDuXX"
      },
      "outputs": [],
      "source": [
        "assert (Z == np.array([[1., 0., 0.],\n",
        "                       [0., 1., 0.],\n",
        "                       [0., 0., 1.]])).all"
      ]
    },
    {
      "cell_type": "markdown",
      "metadata": {
        "id": "XSoo9sxlDuXX"
      },
      "source": [
        "**문제 4**"
      ]
    },
    {
      "cell_type": "markdown",
      "metadata": {
        "id": "mqcax9jXDuXX"
      },
      "source": [
        "변수 `Z`가 아래와 같은 (5,5) 모양의 2차원 어레이를 가리키도록 하라.\n",
        "단, `np.arange()` 함수와 `np.diag()` 함수의 `k` 키워드 인자를 반드시 활용한다.\n",
        "\n",
        "```\n",
        "[[0 0 0 0 0]\n",
        " [1 0 0 0 0]\n",
        " [0 2 0 0 0]\n",
        " [0 0 3 0 0]\n",
        " [0 0 0 4 0]]\n",
        "```"
      ]
    },
    {
      "cell_type": "code",
      "execution_count": null,
      "metadata": {
        "colab": {
          "base_uri": "https://localhost:8080/"
        },
        "id": "yqe6rLXMMbiN",
        "outputId": "47460eca-eb44-41f8-b6ca-1209aed45cf4"
      },
      "outputs": [
        {
          "output_type": "execute_result",
          "data": {
            "text/plain": [
              "array([[0, 0, 0, 0, 0],\n",
              "       [1, 0, 0, 0, 0],\n",
              "       [0, 2, 0, 0, 0],\n",
              "       [0, 0, 3, 0, 0],\n",
              "       [0, 0, 0, 4, 0]])"
            ]
          },
          "metadata": {},
          "execution_count": 71
        }
      ],
      "source": [
        "# None을 적절한 표현식으로 대체하라.\n",
        "Z = np.diag(np.arange(1,5), k=-1)\n",
        "\n",
        "Z"
      ]
    },
    {
      "cell_type": "markdown",
      "metadata": {
        "id": "0f8AqGjuDuXY"
      },
      "source": [
        "아래 코드는 수정하지 마세요!!!"
      ]
    },
    {
      "cell_type": "code",
      "execution_count": null,
      "metadata": {
        "id": "LckzIvBDDuXY"
      },
      "outputs": [],
      "source": [
        "assert (Z == np.array([[0, 0, 0, 0, 0],\n",
        "                        [1, 0, 0, 0, 0],\n",
        "                        [0, 2, 0, 0, 0],\n",
        "                        [0, 0, 3, 0, 0],\n",
        "                        [0, 0, 0, 4, 0]])).all()"
      ]
    },
    {
      "cell_type": "markdown",
      "metadata": {
        "id": "a_iRQoauDuXY"
      },
      "source": [
        "**문제 5**"
      ]
    },
    {
      "cell_type": "markdown",
      "metadata": {
        "id": "km6NSpmIDuXY"
      },
      "source": [
        "변수 `Z`가 아래와 같은 (5, 5) 모양의 2차원 어레이를 가리키도록 하라.\n",
        "단, `np.zeros()` 함수, `np.arange()` 함수, 2차원 어레이 덧셈을 이용한다.\n",
        "\n",
        "```\n",
        "[[0. 1. 2. 3. 4.]\n",
        " [0. 1. 2. 3. 4.]\n",
        " [0. 1. 2. 3. 4.]\n",
        " [0. 1. 2. 3. 4.]\n",
        " [0. 1. 2. 3. 4.]]\n",
        "```"
      ]
    },
    {
      "cell_type": "code",
      "execution_count": null,
      "metadata": {
        "colab": {
          "base_uri": "https://localhost:8080/"
        },
        "id": "1eXRQS31czdk",
        "outputId": "3784c877-3a49-4418-cc97-54fd256bf8d2"
      },
      "outputs": [
        {
          "output_type": "execute_result",
          "data": {
            "text/plain": [
              "array([[0., 1., 2., 3., 4.],\n",
              "       [0., 1., 2., 3., 4.],\n",
              "       [0., 1., 2., 3., 4.],\n",
              "       [0., 1., 2., 3., 4.],\n",
              "       [0., 1., 2., 3., 4.]])"
            ]
          },
          "metadata": {},
          "execution_count": 75
        }
      ],
      "source": [
        "# None을 적절한 표현식으로 대체하라.\n",
        "Z = np.zeros((5, 5)) + np.arange(5)\n",
        "\n",
        "Z"
      ]
    },
    {
      "cell_type": "markdown",
      "metadata": {
        "id": "hS2AmNmyDuXY"
      },
      "source": [
        "아래 코드는 수정하지 마세요!!!"
      ]
    },
    {
      "cell_type": "code",
      "execution_count": null,
      "metadata": {
        "id": "_aLO25gLDuXY"
      },
      "outputs": [],
      "source": [
        "assert (Z == np.array([[0., 1., 2., 3., 4.],\n",
        "                        [0., 1., 2., 3., 4.],\n",
        "                        [0., 1., 2., 3., 4.],\n",
        "                        [0., 1., 2., 3., 4.],\n",
        "                        [0., 1., 2., 3., 4.]])).all()"
      ]
    },
    {
      "cell_type": "markdown",
      "metadata": {
        "id": "9eBUoQuqDuXY"
      },
      "source": [
        "**문제 6**"
      ]
    },
    {
      "cell_type": "markdown",
      "metadata": {
        "id": "QF_d1PbcDuXY"
      },
      "source": [
        "아래 3x3 단위 행렬에 해당하는 2차원 어레이를 한줄 코드로 생성하라.\n",
        "단, `np.eye()` 함수를 이용한다.\n",
        "\n",
        "```\n",
        "[[1. 0. 0.]\n",
        " [0. 1. 0.]\n",
        " [0. 0. 1.]]\n",
        "```"
      ]
    },
    {
      "cell_type": "code",
      "execution_count": null,
      "metadata": {
        "id": "vd8TAL1BDuXY",
        "outputId": "c71f6e95-668e-4fad-d7de-57540596f9c0",
        "colab": {
          "base_uri": "https://localhost:8080/"
        }
      },
      "outputs": [
        {
          "output_type": "execute_result",
          "data": {
            "text/plain": [
              "array([[1., 0., 0.],\n",
              "       [0., 1., 0.],\n",
              "       [0., 0., 1.]])"
            ]
          },
          "metadata": {},
          "execution_count": 79
        }
      ],
      "source": [
        "# None을 적절한 표현식으로 대체하라.\n",
        "Z = np.eye(3)\n",
        "Z"
      ]
    },
    {
      "cell_type": "markdown",
      "metadata": {
        "id": "AhaJ7l8tDuXY"
      },
      "source": [
        "아래 코드는 수정하지 마세요!!!"
      ]
    },
    {
      "cell_type": "code",
      "execution_count": null,
      "metadata": {
        "id": "j6j-j7QLDuXY"
      },
      "outputs": [],
      "source": [
        "assert (Z == np.array([[1., 0., 0.],\n",
        "                       [0., 1., 0.],\n",
        "                       [0., 0., 1.]])).all()"
      ]
    },
    {
      "cell_type": "markdown",
      "metadata": {
        "id": "MCXdeT5DDuXY"
      },
      "source": [
        "**문제 7**"
      ]
    },
    {
      "cell_type": "markdown",
      "metadata": {
        "id": "TYnzHlYIDuXY"
      },
      "source": [
        "무작위 수로 구성된 (5, 5) 모양의 2차원 어레이가 다음과 같다."
      ]
    },
    {
      "cell_type": "code",
      "execution_count": null,
      "metadata": {
        "id": "SkmCcdsjDuXY",
        "outputId": "833b6031-f8ec-4532-d18f-017a8d5980e9",
        "colab": {
          "base_uri": "https://localhost:8080/"
        }
      },
      "outputs": [
        {
          "output_type": "execute_result",
          "data": {
            "text/plain": [
              "array([[0.45944677, 0.78501654, 0.89208469, 0.95533469, 0.78690339],\n",
              "       [0.3154069 , 0.68813471, 0.43760312, 0.25467062, 0.84087158],\n",
              "       [0.03842635, 0.90176199, 0.46147746, 0.63720148, 0.65935392],\n",
              "       [0.89511774, 0.63666968, 0.61393358, 0.06665204, 0.51840802],\n",
              "       [0.150169  , 0.73743377, 0.51222192, 0.68022778, 0.0416729 ]])"
            ]
          },
          "metadata": {},
          "execution_count": 88
        }
      ],
      "source": [
        "Z = np.random.random((5, 5))\n",
        "\n",
        "Z"
      ]
    },
    {
      "cell_type": "markdown",
      "metadata": {
        "id": "nhmQizTADuXY"
      },
      "source": [
        "변수 `Z`가 가리키는 2차원 어레이에 대해 min-max 크기조정(정규화)을 적용하라.\n",
        "\n",
        "min-max 크기조정(정규화)은 항목의 모든 값을 아래 식을 통해 0과 1 사이의 부동소수점으로 변환한다. $max$와 $min$은 각각 최대 항목과 최소 항목을 가리킨다.\n",
        "\n",
        "$$\n",
        "\\frac{x-min}{max - min}\n",
        "$$"
      ]
    },
    {
      "cell_type": "code",
      "execution_count": null,
      "metadata": {
        "id": "5UG2Jjh1DuXY",
        "outputId": "571a157a-1873-4924-f7fe-ca07d7b9b010",
        "colab": {
          "base_uri": "https://localhost:8080/"
        }
      },
      "outputs": [
        {
          "output_type": "execute_result",
          "data": {
            "text/plain": [
              "array([[0.45917395, 0.81424736, 0.93101819, 1.        , 0.81630519],\n",
              "       [0.30208096, 0.70858594, 0.4353508 , 0.23584067, 0.87516407],\n",
              "       [0.        , 0.94157246, 0.46138867, 0.65303706, 0.677197  ],\n",
              "       [0.9343261 , 0.65245708, 0.6276606 , 0.03078355, 0.52347836],\n",
              "       [0.12186895, 0.76235256, 0.51673166, 0.69996248, 0.00354076]])"
            ]
          },
          "metadata": {},
          "execution_count": 91
        }
      ],
      "source": [
        "# None을 적절한 표현식으로 대체하라.\n",
        "Z_min = Z.min()\n",
        "Z_max = Z.max()\n",
        "\n",
        "Z = (Z - Z_min) / (Z_max - Z_min)\n",
        "\n",
        "Z"
      ]
    },
    {
      "cell_type": "markdown",
      "metadata": {
        "id": "U-aqbxQ0DuXY"
      },
      "source": [
        "아래 코드는 수정하지 마세요!!!"
      ]
    },
    {
      "cell_type": "code",
      "execution_count": null,
      "metadata": {
        "id": "aXY6yR9EDuXY"
      },
      "outputs": [],
      "source": [
        "assert (Z.max() == 1 and Z.min() == 0)"
      ]
    },
    {
      "cell_type": "markdown",
      "metadata": {
        "id": "n2_TT-TtDuXZ"
      },
      "source": [
        "## 3차원 어레이"
      ]
    },
    {
      "cell_type": "markdown",
      "metadata": {
        "id": "4LTigXSwDuXZ"
      },
      "source": [
        "**문제 1**"
      ]
    },
    {
      "cell_type": "markdown",
      "metadata": {
        "id": "3UM7V-gkDuXZ"
      },
      "source": [
        "(1) 변수 `Z`가 (3, 3, 3) 모양의 3차원 어레이를 가리키도록 하라.\n",
        "단, 어레이의 항목은 0과 1 사이의 임의의 부동소수점으로 구성되어야 한다.\n",
        "또한 `np.random.random()` 함수를 이용한다."
      ]
    },
    {
      "cell_type": "code",
      "execution_count": null,
      "metadata": {
        "colab": {
          "base_uri": "https://localhost:8080/"
        },
        "id": "v-K8hejPLP11",
        "outputId": "f61f199e-f69d-4839-a3a8-56e85ff7dd64"
      },
      "outputs": [
        {
          "output_type": "execute_result",
          "data": {
            "text/plain": [
              "array([[[0.61501297, 0.77463378, 0.64390425],\n",
              "        [0.53030213, 0.04195122, 0.96848878],\n",
              "        [0.79871419, 0.29282204, 0.97997033]],\n",
              "\n",
              "       [[0.60188159, 0.58242266, 0.74807318],\n",
              "        [0.81176979, 0.65647861, 0.12809575],\n",
              "        [0.33826751, 0.92808364, 0.22461561]],\n",
              "\n",
              "       [[0.37216702, 0.43207688, 0.43940499],\n",
              "        [0.61293958, 0.94307584, 0.24069271],\n",
              "        [0.12150138, 0.19747049, 0.8869249 ]]])"
            ]
          },
          "metadata": {},
          "execution_count": 94
        }
      ],
      "source": [
        "# None을 적절한 표현식으로 대체하라.\n",
        "Z = np.random.random((3,3,3))\n",
        "\n",
        "Z"
      ]
    },
    {
      "cell_type": "markdown",
      "metadata": {
        "id": "NvDcgVfDDuXZ"
      },
      "source": [
        "아래 코드는 수정하지 마세요!!!"
      ]
    },
    {
      "cell_type": "code",
      "execution_count": null,
      "metadata": {
        "id": "rAhkOufpDuXZ"
      },
      "outputs": [],
      "source": [
        "assert (Z.shape == (3, 3, 3))\n",
        "assert (Z.dtype == 'f8')"
      ]
    },
    {
      "cell_type": "markdown",
      "metadata": {
        "id": "F4prP6ZnDuXZ"
      },
      "source": [
        "(2) `Z`에 포함된 항목들 중에서 최댓값과 최솟값의 차이를 구하라.\n",
        "단, `maximum`, `mininum` 두 변수가 각각 최댓값과 최솟값을 가리키도록 하며,\n",
        "`max()`와 `min()` 어레이 메서드를 이용한다."
      ]
    },
    {
      "cell_type": "code",
      "execution_count": null,
      "metadata": {
        "id": "TuHiINDGDuXZ",
        "outputId": "1714976a-4ece-46c9-92d8-a6d617a418a1",
        "colab": {
          "base_uri": "https://localhost:8080/"
        }
      },
      "outputs": [
        {
          "output_type": "execute_result",
          "data": {
            "text/plain": [
              "0.9380191059272144"
            ]
          },
          "metadata": {},
          "execution_count": 96
        }
      ],
      "source": [
        "# None을 적절한 표현식으로 대체하라.\n",
        "maximum = Z.max()\n",
        "minimum = Z.min()\n",
        "\n",
        "maximum - minimum"
      ]
    },
    {
      "cell_type": "markdown",
      "metadata": {
        "id": "Xo1qnz--DuXZ"
      },
      "source": [
        "아래 코드는 수정하지 마세요!!!"
      ]
    },
    {
      "cell_type": "code",
      "execution_count": null,
      "metadata": {
        "id": "ugh8ZuFJDuXZ",
        "outputId": "bbb587c4-e888-4842-e613-18094873ddbf",
        "colab": {
          "base_uri": "https://localhost:8080/"
        }
      },
      "outputs": [
        {
          "output_type": "stream",
          "name": "stdout",
          "text": [
            "최댓값과 최솟값의 차이: 0.9380191059272144\n"
          ]
        }
      ],
      "source": [
        "print(f\"최댓값과 최솟값의 차이: {maximum - minimum}\")"
      ]
    },
    {
      "cell_type": "markdown",
      "metadata": {
        "id": "AcPqowo8DuXZ"
      },
      "source": [
        "## `dtype` 종류"
      ]
    },
    {
      "cell_type": "markdown",
      "metadata": {
        "id": "PLUpeXYEDuXZ"
      },
      "source": [
        "**문제 1**"
      ]
    },
    {
      "cell_type": "markdown",
      "metadata": {
        "id": "Y2vPfwX1DuXZ"
      },
      "source": [
        "아래 두 코드의 실행결과를 설명하라."
      ]
    },
    {
      "cell_type": "code",
      "execution_count": null,
      "metadata": {
        "id": "gQhx7YC2DuXZ",
        "outputId": "7e330e24-cfa7-4caf-f43a-50c68df366f6",
        "colab": {
          "base_uri": "https://localhost:8080/"
        }
      },
      "outputs": [
        {
          "output_type": "stream",
          "name": "stdout",
          "text": [
            "-128\n",
            "127\n",
            "-2147483648\n",
            "2147483647\n",
            "-9223372036854775808\n",
            "9223372036854775807\n"
          ]
        }
      ],
      "source": [
        "for dtype in [np.int8, np.int32, np.int64]:\n",
        "    print(np.iinfo(dtype).min)\n",
        "    print(np.iinfo(dtype).max)"
      ]
    },
    {
      "cell_type": "markdown",
      "metadata": {
        "id": "VGTNufGcDuXZ"
      },
      "source": [
        "`코드설명`: 각 인트 타입 별 최솟값 및 최댓값 출력"
      ]
    },
    {
      "cell_type": "code",
      "execution_count": null,
      "metadata": {
        "id": "OMhYgy9XDuXZ",
        "outputId": "5636e325-ab06-447e-c7b0-43eeefc63df3",
        "colab": {
          "base_uri": "https://localhost:8080/"
        }
      },
      "outputs": [
        {
          "output_type": "stream",
          "name": "stdout",
          "text": [
            "-3.4028235e+38\n",
            "3.4028235e+38\n",
            "1.1920929e-07\n",
            "-1.7976931348623157e+308\n",
            "1.7976931348623157e+308\n",
            "2.220446049250313e-16\n"
          ]
        }
      ],
      "source": [
        "for dtype in [np.float32, np.float64]:\n",
        "    print(np.finfo(dtype).min)\n",
        "    print(np.finfo(dtype).max)\n",
        "    print(np.finfo(dtype).eps)"
      ]
    },
    {
      "cell_type": "markdown",
      "metadata": {
        "id": "z1_1ZaoiDuXa"
      },
      "source": [
        "`코드설명`: 각 float 별 최댓값, 최솟값, 머신 엡실론 값 출력"
      ]
    },
    {
      "cell_type": "markdown",
      "metadata": {
        "id": "j52EmUUwDuXa"
      },
      "source": [
        "**문제 2**"
      ]
    },
    {
      "cell_type": "markdown",
      "metadata": {
        "id": "Aw0mp6NeDuXa"
      },
      "source": [
        "부동소수점으로 구성된 1차원 어레이가 아래와 같이 주어졌다."
      ]
    },
    {
      "cell_type": "code",
      "execution_count": null,
      "metadata": {
        "id": "eTzcsBSfDuXa",
        "outputId": "90225d9c-8bdf-485e-f638-1b7e3a8e2369",
        "colab": {
          "base_uri": "https://localhost:8080/"
        }
      },
      "outputs": [
        {
          "output_type": "execute_result",
          "data": {
            "text/plain": [
              "array([72.84907  , 77.644745 , 65.61618  , 17.742876 , 54.502693 ,\n",
              "       98.46697  , 93.73881  ,  4.3173738, 16.481482 , 13.172877 ],\n",
              "      dtype=float32)"
            ]
          },
          "metadata": {},
          "execution_count": 101
        }
      ],
      "source": [
        "Z = (np.random.rand(10)*100).astype(np.float32)\n",
        "\n",
        "Z"
      ]
    },
    {
      "cell_type": "markdown",
      "metadata": {
        "id": "ZSRR6W1YDuXa"
      },
      "source": [
        "변수 `Y`가 변수 `Z`가 가리키는 1차원 어레이의 dtype이 `int32`로 형변환된 1차원 어레이를 가리키도록 하라.\n",
        "단, `astype()` 메서드를 이용한다."
      ]
    },
    {
      "cell_type": "code",
      "execution_count": null,
      "metadata": {
        "id": "tz3KsAHjDuXa",
        "outputId": "2c2b7d20-be42-4f12-b8ef-e8d57d99676c",
        "colab": {
          "base_uri": "https://localhost:8080/"
        }
      },
      "outputs": [
        {
          "output_type": "execute_result",
          "data": {
            "text/plain": [
              "array([72, 77, 65, 17, 54, 98, 93,  4, 16, 13], dtype=int32)"
            ]
          },
          "metadata": {},
          "execution_count": 103
        }
      ],
      "source": [
        "# None을 적절한 표현식으로 대체하라.\n",
        "Y = Z.astype(np.int32)\n",
        "\n",
        "Y"
      ]
    },
    {
      "cell_type": "markdown",
      "metadata": {
        "id": "p4Qc2Xx_DuXa"
      },
      "source": [
        "아래 코드는 수정하지 마세요!!!"
      ]
    },
    {
      "cell_type": "code",
      "execution_count": null,
      "metadata": {
        "id": "KoSvBD7mDuXa"
      },
      "outputs": [],
      "source": [
        "assert (Y.shape == (10,))\n",
        "assert (Y.dtype == np.int32)"
      ]
    },
    {
      "cell_type": "markdown",
      "metadata": {
        "id": "_5NYQ89XDuXa"
      },
      "source": [
        "**문제 3**"
      ]
    },
    {
      "cell_type": "markdown",
      "metadata": {
        "id": "fna_tTqEDuXa"
      },
      "source": [
        "변수 `Z`가 아래와 같이 무작위로 생성된 길이가 10인 1차원 어레이를 가리킨다."
      ]
    },
    {
      "cell_type": "code",
      "execution_count": null,
      "metadata": {
        "id": "AwTb95HkDuXa",
        "outputId": "c29ac354-0923-4cf4-a53c-16f443532025",
        "colab": {
          "base_uri": "https://localhost:8080/"
        }
      },
      "outputs": [
        {
          "output_type": "execute_result",
          "data": {
            "text/plain": [
              "array([7.2597991 , 8.1778533 , 2.13511366, 5.05852693, 8.40703028,\n",
              "       7.32801545, 5.42237205, 5.9034769 , 5.08360547, 2.97548451])"
            ]
          },
          "metadata": {},
          "execution_count": 105
        }
      ],
      "source": [
        "Z = np.random.uniform(0,10,10)\n",
        "Z"
      ]
    },
    {
      "cell_type": "markdown",
      "metadata": {
        "id": "XgF4OnE6DuXa"
      },
      "source": [
        "(1) 나머지 연산자(`%`)를 이용하여 정수로만 구성된 어레이 `Y`를 생성하라."
      ]
    },
    {
      "cell_type": "code",
      "execution_count": null,
      "metadata": {
        "id": "TGa-Y9lgDuXa"
      },
      "outputs": [],
      "source": [
        "# None을 적절한 표현식으로 대체하라.\n",
        "Y = Z.astype(int)"
      ]
    },
    {
      "cell_type": "markdown",
      "metadata": {
        "id": "_eIYbeWKDuXa"
      },
      "source": [
        "아래 코드는 수정하지 마세요!!!"
      ]
    },
    {
      "cell_type": "code",
      "execution_count": null,
      "metadata": {
        "id": "LkDURe7-DuXa"
      },
      "outputs": [],
      "source": [
        "assert (Y == Z.astype(np.int32)).all()"
      ]
    },
    {
      "cell_type": "markdown",
      "metadata": {
        "id": "iL9cFWZXDuXa"
      },
      "source": [
        "(2) 몫 연산자(`//`)를 이용하여 정수로만 구성된 어레이 `Y`를 생성하라."
      ]
    },
    {
      "cell_type": "code",
      "execution_count": null,
      "metadata": {
        "id": "Yyxd860aDuXa"
      },
      "outputs": [],
      "source": [
        "# None을 적절한 표현식으로 대체하라.\n",
        "Y = Z // 1"
      ]
    },
    {
      "cell_type": "markdown",
      "metadata": {
        "id": "tW-xS3gUDuXb"
      },
      "source": [
        "아래 코드는 수정하지 마세요!!!"
      ]
    },
    {
      "cell_type": "code",
      "execution_count": null,
      "metadata": {
        "id": "K2zXelT_DuXb"
      },
      "outputs": [],
      "source": [
        "assert (Y == Z.astype(np.int32)).all()"
      ]
    },
    {
      "cell_type": "markdown",
      "metadata": {
        "id": "KF6OV1DnDuXb"
      },
      "source": [
        "(3) 내림 함수 `np.floor()` 함수를 이용하여 정수로만 구성된 어레이 `Y`를 생성하라."
      ]
    },
    {
      "cell_type": "code",
      "execution_count": null,
      "metadata": {
        "id": "XK1y-1VdDuXb"
      },
      "outputs": [],
      "source": [
        "# None을 적절한 표현식으로 대체하라.\n",
        "Y = np.floor(Z)"
      ]
    },
    {
      "cell_type": "markdown",
      "metadata": {
        "id": "R3IK6I-XDuXb"
      },
      "source": [
        "아래 코드는 수정하지 마세요!!!"
      ]
    },
    {
      "cell_type": "code",
      "execution_count": null,
      "metadata": {
        "id": "jWcL0QCLDuXb"
      },
      "outputs": [],
      "source": [
        "assert (Y == Z.astype(np.int32)).all()"
      ]
    },
    {
      "cell_type": "markdown",
      "metadata": {
        "id": "uffIpXpGDuXb"
      },
      "source": [
        "(4) `np.trunc()` 함수를 이용하여 정수로만 구성된 어레이 `Y`를 생성하라."
      ]
    },
    {
      "cell_type": "code",
      "execution_count": null,
      "metadata": {
        "id": "aOqEXJ3IDuXb"
      },
      "outputs": [],
      "source": [
        "# None을 적절한 표현식으로 대체하라.\n",
        "Y = np.trunc(Z)"
      ]
    },
    {
      "cell_type": "markdown",
      "metadata": {
        "id": "IbW9GAQFDuXb"
      },
      "source": [
        "아래 코드는 수정하지 마세요!!!"
      ]
    },
    {
      "cell_type": "code",
      "execution_count": null,
      "metadata": {
        "id": "__Hf2lHwDuXb"
      },
      "outputs": [],
      "source": [
        "assert (Y == Z.astype(np.int32)).all()"
      ]
    }
  ],
  "metadata": {
    "colab": {
      "provenance": []
    },
    "kernelspec": {
      "display_name": "Python 3 (ipykernel)",
      "language": "python",
      "name": "python3"
    },
    "language_info": {
      "codemirror_mode": {
        "name": "ipython",
        "version": 3
      },
      "file_extension": ".py",
      "mimetype": "text/x-python",
      "name": "python",
      "nbconvert_exporter": "python",
      "pygments_lexer": "ipython3",
      "version": "3.10.9"
    },
    "vscode": {
      "interpreter": {
        "hash": "ad0f3c8a064f687cbf898a0868fd45ba1c7e928ac8a0404f7c241d812ddc1e76"
      }
    }
  },
  "nbformat": 4,
  "nbformat_minor": 0
}