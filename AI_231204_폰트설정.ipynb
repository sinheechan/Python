{
  "nbformat": 4,
  "nbformat_minor": 0,
  "metadata": {
    "colab": {
      "provenance": [],
      "authorship_tag": "ABX9TyMEjX4i3NVkv9oDzy4gf+TX",
      "include_colab_link": true
    },
    "kernelspec": {
      "name": "python3",
      "display_name": "Python 3"
    },
    "language_info": {
      "name": "python"
    }
  },
  "cells": [
    {
      "cell_type": "markdown",
      "metadata": {
        "id": "view-in-github",
        "colab_type": "text"
      },
      "source": [
        "<a href=\"https://colab.research.google.com/github/sinheechan/Python_Read/blob/main/AI_231204_%ED%8F%B0%ED%8A%B8%EC%84%A4%EC%A0%95.ipynb\" target=\"_parent\"><img src=\"https://colab.research.google.com/assets/colab-badge.svg\" alt=\"Open In Colab\"/></a>"
      ]
    },
    {
      "cell_type": "code",
      "execution_count": 1,
      "metadata": {
        "colab": {
          "base_uri": "https://localhost:8080/"
        },
        "id": "OoF5AjahQ03A",
        "outputId": "7b13c139-0de7-4e38-9f90-5dda998f17d0"
      },
      "outputs": [
        {
          "output_type": "stream",
          "name": "stdout",
          "text": [
            "The following NEW packages will be installed:\n",
            "  fonts-nanum\n",
            "0 upgraded, 1 newly installed, 0 to remove and 24 not upgraded.\n",
            "Need to get 10.3 MB of archives.\n",
            "After this operation, 34.1 MB of additional disk space will be used.\n",
            "Selecting previously unselected package fonts-nanum.\n",
            "(Reading database ... 121658 files and directories currently installed.)\n",
            "Preparing to unpack .../fonts-nanum_20200506-1_all.deb ...\n",
            "Unpacking fonts-nanum (20200506-1) ...\n",
            "Setting up fonts-nanum (20200506-1) ...\n",
            "Processing triggers for fontconfig (2.13.1-4.2ubuntu5) ...\n"
          ]
        }
      ],
      "source": [
        "import matplotlib.font_manager as fm # 폰트매니저\n",
        "import os\n",
        "import matplotlib.pyplot as plt\n",
        "\n",
        "!apt -qq install fonts-nanum # 나눔폰트를 설치하겠다\n",
        "\n",
        "fe = fm.FontEntry(\n",
        "    fname = r'/usr/share/fonts/truetype/nanum/NanumGothic.ttf',\n",
        "    name = 'NanumGothic')\n",
        "fm.fontManager.ttflist.insert(0, fe) # matplib에 폰트를 추가해라\n",
        "plt.rcParams.update({'font.size': 12, 'font.family': 'NanumGothic'}) # 폰트 설정"
      ]
    }
  ]
}